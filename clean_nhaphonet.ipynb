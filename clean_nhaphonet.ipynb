{
 "cells": [
  {
   "cell_type": "markdown",
   "metadata": {},
   "source": [
    "# 1. Merge all files of nhaphonet.vn"
   ]
  },
  {
   "cell_type": "code",
   "execution_count": 2,
   "metadata": {},
   "outputs": [],
   "source": [
    "import numpy as np\n",
    "import pandas as pd\n",
    "import re\n",
    "import os"
   ]
  },
  {
   "cell_type": "code",
   "execution_count": 3,
   "metadata": {},
   "outputs": [
    {
     "name": "stdout",
     "output_type": "stream",
     "text": [
      "4080\n"
     ]
    }
   ],
   "source": [
    "folder_path = \"D:\\\\OneDrive\\\\KiotViet\\\\Python_for_work\\\\KFinance\\\\CSV_crawl_data\"\n",
    "file_list = os.listdir(folder_path)\n",
    "\n",
    "merged_df = pd.DataFrame()\n",
    "\n",
    "# Loop through each file in the folder\n",
    "for file in file_list:\n",
    "    if \"nhaphonet_\" in file and file.endswith(\".csv\"):\n",
    "        file_path = os.path.join(folder_path, file)\n",
    "\n",
    "        # Specify the encoding as 'utf-8' or the appropriate encoding for your files\n",
    "        try:\n",
    "            df = pd.read_csv(file_path, encoding='utf-8')\n",
    "            merged_df = pd.concat([merged_df, df], ignore_index=True)\n",
    "        except UnicodeDecodeError:\n",
    "            print(f\"Error reading file: {file_path}. Skipping.\")\n",
    "\n",
    "print(len(merged_df))"
   ]
  },
  {
   "cell_type": "code",
   "execution_count": 4,
   "metadata": {},
   "outputs": [],
   "source": [
    "merged_df = merged_df.dropna()\n",
    "merged_df.to_csv(r\"D:\\OneDrive\\KiotViet\\Python_for_work\\KFinance\\CSV_crawl_data\\all_bds_nhaphonet.csv\", index=False, mode = 'w', encoding=\"utf-8-sig\")"
   ]
  },
  {
   "cell_type": "markdown",
   "metadata": {},
   "source": [
    "# 2. Clean data "
   ]
  },
  {
   "cell_type": "code",
   "execution_count": 5,
   "metadata": {},
   "outputs": [
    {
     "name": "stdout",
     "output_type": "stream",
     "text": [
      "The total rows of dataframe is 2040\n"
     ]
    }
   ],
   "source": [
    "df = pd.read_csv(r\"D:\\OneDrive\\KiotViet\\Python_for_work\\KFinance\\CSV_crawl_data\\all_bds_nhaphonet.csv\")\n",
    "df.head()\n",
    "print(f\"The total rows of dataframe is {len(df)}\")"
   ]
  },
  {
   "cell_type": "code",
   "execution_count": 6,
   "metadata": {},
   "outputs": [
    {
     "name": "stdout",
     "output_type": "stream",
     "text": [
      "The total rows of dataframe is 1956\n"
     ]
    }
   ],
   "source": [
    "df = df[~df['Price'].str.contains('Thỏa thuận')]\n",
    "df = df.drop_duplicates()\n",
    "print(f\"The total rows of dataframe is {len(df)}\")"
   ]
  },
  {
   "cell_type": "markdown",
   "metadata": {},
   "source": [
    "2.0 Xử lý diện tích"
   ]
  },
  {
   "cell_type": "code",
   "execution_count": 7,
   "metadata": {},
   "outputs": [
    {
     "data": {
      "text/plain": [
       "0    100m2\n",
       "1     60m2\n",
       "2     90m2\n",
       "3     24m2\n",
       "4     73m2\n",
       "Name: Area, dtype: object"
      ]
     },
     "execution_count": 7,
     "metadata": {},
     "output_type": "execute_result"
    }
   ],
   "source": [
    "df['Area'].head()"
   ]
  },
  {
   "cell_type": "code",
   "execution_count": 8,
   "metadata": {},
   "outputs": [],
   "source": [
    "df['area_value'] = df['Area'].apply(lambda x: float(x.replace('m2', '')))"
   ]
  },
  {
   "cell_type": "code",
   "execution_count": 9,
   "metadata": {},
   "outputs": [
    {
     "name": "stdout",
     "output_type": "stream",
     "text": [
      "<class 'pandas.core.frame.DataFrame'>\n",
      "Int64Index: 1956 entries, 0 to 2039\n",
      "Data columns (total 6 columns):\n",
      " #   Column      Non-Null Count  Dtype  \n",
      "---  ------      --------------  -----  \n",
      " 0   Title       1956 non-null   object \n",
      " 1   Price       1956 non-null   object \n",
      " 2   Area        1956 non-null   object \n",
      " 3   Location    1956 non-null   object \n",
      " 4   type        1956 non-null   object \n",
      " 5   area_value  1956 non-null   float64\n",
      "dtypes: float64(1), object(5)\n",
      "memory usage: 107.0+ KB\n"
     ]
    }
   ],
   "source": [
    "df.info()"
   ]
  },
  {
   "cell_type": "markdown",
   "metadata": {},
   "source": [
    "2.1 Xử lý price"
   ]
  },
  {
   "cell_type": "code",
   "execution_count": 10,
   "metadata": {},
   "outputs": [],
   "source": [
    "#Tạo cột 'price_per_m2'\n",
    "\n",
    "# df['price_per_m2'] = df['Price'].apply(lambda x: str(x.replace('Giá\\n:\\n', '')))\n",
    "\n",
    "def convert_price_string_to_float(price_string):\n",
    "    return float(price_string.replace(',', '.'))\n",
    "\n",
    "price_pattern = re.compile(r'([\\d,]+) (triệu /tháng)')\n",
    "price_pattern_m2 = re.compile(r'([\\d,]+) (triệu /m2)')\n",
    "price_pattern_ty = re.compile(r'([\\d,]+) (tỷ /tháng)')\n",
    "price_pattern_ty_m2 = re.compile(r'([\\d,]+) (tỷ /m2)')\n",
    "price_pattern_trieu = re.compile(r'([\\d,]+) (triệu)')\n",
    "\n",
    "#1.Nếu Price ghi X triệu/tháng và Area ghi Y m2 thì => Cột 'price_per_m2' thành X*1000000/Y\n",
    "df['price_value_trieu'] = df['Price'].apply(lambda x: convert_price_string_to_float(price_pattern.search(x).group(1)) if price_pattern.search(x) is not None else None)\n",
    "df['price_per_m2_trieu'] = 1000000 * df['price_value_trieu'] / df['area_value']\n",
    "\n",
    "#2. Nếu Price ghi X triệu/m2 thì cột 'price_per_m2' là X*1000000\n",
    "df['price_value_trieu2'] = df['Price'].apply(lambda x: convert_price_string_to_float(price_pattern_m2.search(x).group(1)) if price_pattern_m2.search(x) is not None else None)\n",
    "df['price_per_m2_trieu2'] = 1000000 * df['price_value_trieu2']\n",
    "\n",
    "#3.Nếu Price ghi X tỷ/tháng và Area ghi Y m2 thì => Cột 'price_per_m2' thành X*1000000000/Y\n",
    "df['price_value_ty'] = df['Price'].apply(lambda x: convert_price_string_to_float(price_pattern_ty.search(x).group(1)) if price_pattern_ty.search(x) is not None else None)\n",
    "df['price_per_m2_ty'] = 1000000000 * df['price_value_ty'] / df['area_value']\n",
    "\n",
    "#4.Nếu Price ghi X tỷ/m2 và Area ghi Y m2 thì => Cột 'price_per_m2' thành X*1000000000\n",
    "df['price_value_ty2'] = df['Price'].apply(lambda x: convert_price_string_to_float(price_pattern_ty_m2.search(x).group(1)) if price_pattern_ty_m2.search(x) is not None else None)\n",
    "df['price_per_m2_ty2'] = 1000000000 * df['price_value_ty2']\n",
    "\n",
    "\n",
    "#3.Nếu Price ghi X triệu và Area ghi Y m2 thì => Cột 'price_per_m2' thành X*1000000/Y\n",
    "df['price_value_trieu3'] = df['Price'].apply(lambda x: convert_price_string_to_float(price_pattern_trieu.search(x).group(1)) if price_pattern_trieu.search(x) is not None else None)\n",
    "df['price_per_m2_trieu3'] = 1000000 * df['price_value_trieu3'] / df['area_value']\n",
    "\n"
   ]
  },
  {
   "cell_type": "code",
   "execution_count": 11,
   "metadata": {},
   "outputs": [],
   "source": [
    "#4. Từ các cột \"price_per_m2_trieu\", \"price_per_m2_trieu2\", \"price_per_m2_ty\", 'price_per_m2_ty2', 'price_per_m2_trieu3' ta tìm được price_per_m2_final\n",
    "\n",
    "def calculate_price_per_m2_final(row):\n",
    "    if not pd.isna(row['price_per_m2_trieu']):\n",
    "        return row['price_per_m2_trieu']\n",
    "    elif not pd.isna(row['price_per_m2_trieu2']):\n",
    "        return row['price_per_m2_trieu2']\n",
    "    elif not pd.isna(row['price_per_m2_ty']):\n",
    "        return row['price_per_m2_ty']\n",
    "    elif not pd.isna(row['price_per_m2_trieu3']):\n",
    "        return row['price_per_m2_trieu3']\n",
    "    elif not pd.isna(row['price_per_m2_ty2']):\n",
    "        return row['price_per_m2_ty2']\n",
    "    else:\n",
    "        return np.nan\n",
    "\n",
    "df['price_per_m2'] = df.apply(calculate_price_per_m2_final, axis=1)"
   ]
  },
  {
   "cell_type": "markdown",
   "metadata": {},
   "source": [
    "2.2. Xử lý địa chỉ"
   ]
  },
  {
   "cell_type": "code",
   "execution_count": 12,
   "metadata": {},
   "outputs": [],
   "source": [
    "df['address'] = df['Location']\n"
   ]
  },
  {
   "cell_type": "code",
   "execution_count": 13,
   "metadata": {},
   "outputs": [
    {
     "data": {
      "text/html": [
       "<div>\n",
       "<style scoped>\n",
       "    .dataframe tbody tr th:only-of-type {\n",
       "        vertical-align: middle;\n",
       "    }\n",
       "\n",
       "    .dataframe tbody tr th {\n",
       "        vertical-align: top;\n",
       "    }\n",
       "\n",
       "    .dataframe thead th {\n",
       "        text-align: right;\n",
       "    }\n",
       "</style>\n",
       "<table border=\"1\" class=\"dataframe\">\n",
       "  <thead>\n",
       "    <tr style=\"text-align: right;\">\n",
       "      <th></th>\n",
       "      <th>Title</th>\n",
       "      <th>Price</th>\n",
       "      <th>Area</th>\n",
       "      <th>address</th>\n",
       "      <th>area_value</th>\n",
       "      <th>price_per_m2</th>\n",
       "    </tr>\n",
       "  </thead>\n",
       "  <tbody>\n",
       "    <tr>\n",
       "      <th>0</th>\n",
       "      <td>CHO THUÊ NHÀ GÓI 2 MỸ GIA VĨNH THÁI</td>\n",
       "      <td>15 triệu /tháng</td>\n",
       "      <td>100m2</td>\n",
       "      <td>Nha Trang, Khánh Hòa</td>\n",
       "      <td>100.0</td>\n",
       "      <td>1.500000e+05</td>\n",
       "    </tr>\n",
       "    <tr>\n",
       "      <th>1</th>\n",
       "      <td>--Cần cho thuê nhà gói 2 , khu đô thị MỸ Gia -...</td>\n",
       "      <td>13.5 triệu /tháng</td>\n",
       "      <td>60m2</td>\n",
       "      <td>lô 3e, Đường Lê Hồng Phong, Ngô Quyền, Hải Phòng</td>\n",
       "      <td>60.0</td>\n",
       "      <td>8.333333e+04</td>\n",
       "    </tr>\n",
       "    <tr>\n",
       "      <th>2</th>\n",
       "      <td>cho thuê nhà ở lô 3e Lê Hồng Phong phù hợp ở, ...</td>\n",
       "      <td>20 triệu /tháng</td>\n",
       "      <td>90m2</td>\n",
       "      <td>Đường Hoàng Thế Thiện, Hải An, Hải Phòng</td>\n",
       "      <td>90.0</td>\n",
       "      <td>2.222222e+05</td>\n",
       "    </tr>\n",
       "    <tr>\n",
       "      <th>3</th>\n",
       "      <td>cho thuê nhà ở lô 3e Lê Hồng Phong-         60...</td>\n",
       "      <td>20 triệu /tháng</td>\n",
       "      <td>24m2</td>\n",
       "      <td>Lê Chân, Hải Phòng</td>\n",
       "      <td>24.0</td>\n",
       "      <td>8.333333e+05</td>\n",
       "    </tr>\n",
       "    <tr>\n",
       "      <th>4</th>\n",
       "      <td>CHO THUÊ NHÀ MẶT ĐƯỜNG HOÀNG THẾ THIỆN 4 TẦNG,...</td>\n",
       "      <td>12 triệu /tháng</td>\n",
       "      <td>73m2</td>\n",
       "      <td>Đường Lương Thế Vinh, Thanh Xuân, Hà Nội</td>\n",
       "      <td>73.0</td>\n",
       "      <td>1.643836e+05</td>\n",
       "    </tr>\n",
       "    <tr>\n",
       "      <th>...</th>\n",
       "      <td>...</td>\n",
       "      <td>...</td>\n",
       "      <td>...</td>\n",
       "      <td>...</td>\n",
       "      <td>...</td>\n",
       "      <td>...</td>\n",
       "    </tr>\n",
       "    <tr>\n",
       "      <th>2035</th>\n",
       "      <td>+ Diện tích : 240m2 x4 tâng, kinh doanh sầm uấ...</td>\n",
       "      <td>294 triệu /tháng</td>\n",
       "      <td>330m2</td>\n",
       "      <td>Đường Ngô Thì Nhậm, Hai Bà Trưng, Hà Nội</td>\n",
       "      <td>330.0</td>\n",
       "      <td>8.909091e+05</td>\n",
       "    </tr>\n",
       "    <tr>\n",
       "      <th>2036</th>\n",
       "      <td>Cho thuê MBKD nhà mặt phố CAO THẮNG-mặt tiền 9m.</td>\n",
       "      <td>37 triệu /tháng</td>\n",
       "      <td>35m2</td>\n",
       "      <td>Đường Hàng Bông, Hoàn Kiếm, Hà Nội</td>\n",
       "      <td>35.0</td>\n",
       "      <td>1.057143e+06</td>\n",
       "    </tr>\n",
       "    <tr>\n",
       "      <th>2037</th>\n",
       "      <td>+ Diện tích : 80m2 x 2 tầng, khu đông dân cư. ...</td>\n",
       "      <td>100 triệu /tháng</td>\n",
       "      <td>738m2</td>\n",
       "      <td>Đường Cửa Nam, Hoàn Kiếm, Hà Nội</td>\n",
       "      <td>738.0</td>\n",
       "      <td>1.355014e+05</td>\n",
       "    </tr>\n",
       "    <tr>\n",
       "      <th>2038</th>\n",
       "      <td>Cho thuê MBKD nhà mặt phố NHÀ CHUNG-mặt tiền 5m.</td>\n",
       "      <td>90 triệu /tháng</td>\n",
       "      <td>290m2</td>\n",
       "      <td>Đường Hàng Mành, Hoàn Kiếm, Hà Nội</td>\n",
       "      <td>290.0</td>\n",
       "      <td>3.103448e+05</td>\n",
       "    </tr>\n",
       "    <tr>\n",
       "      <th>2039</th>\n",
       "      <td>+ Diện tích : 60m, khu đông dân cư. + Mặt tiền...</td>\n",
       "      <td>15 triệu /tháng</td>\n",
       "      <td>75m2</td>\n",
       "      <td>Nha Trang, Khánh Hòa</td>\n",
       "      <td>75.0</td>\n",
       "      <td>2.000000e+05</td>\n",
       "    </tr>\n",
       "  </tbody>\n",
       "</table>\n",
       "<p>1956 rows × 6 columns</p>\n",
       "</div>"
      ],
      "text/plain": [
       "                                                  Title              Price  \\\n",
       "0                   CHO THUÊ NHÀ GÓI 2 MỸ GIA VĨNH THÁI    15 triệu /tháng   \n",
       "1     --Cần cho thuê nhà gói 2 , khu đô thị MỸ Gia -...  13.5 triệu /tháng   \n",
       "2     cho thuê nhà ở lô 3e Lê Hồng Phong phù hợp ở, ...    20 triệu /tháng   \n",
       "3     cho thuê nhà ở lô 3e Lê Hồng Phong-         60...    20 triệu /tháng   \n",
       "4     CHO THUÊ NHÀ MẶT ĐƯỜNG HOÀNG THẾ THIỆN 4 TẦNG,...    12 triệu /tháng   \n",
       "...                                                 ...                ...   \n",
       "2035  + Diện tích : 240m2 x4 tâng, kinh doanh sầm uấ...   294 triệu /tháng   \n",
       "2036   Cho thuê MBKD nhà mặt phố CAO THẮNG-mặt tiền 9m.    37 triệu /tháng   \n",
       "2037  + Diện tích : 80m2 x 2 tầng, khu đông dân cư. ...   100 triệu /tháng   \n",
       "2038   Cho thuê MBKD nhà mặt phố NHÀ CHUNG-mặt tiền 5m.    90 triệu /tháng   \n",
       "2039  + Diện tích : 60m, khu đông dân cư. + Mặt tiền...    15 triệu /tháng   \n",
       "\n",
       "       Area                                           address  area_value  \\\n",
       "0     100m2                              Nha Trang, Khánh Hòa       100.0   \n",
       "1      60m2  lô 3e, Đường Lê Hồng Phong, Ngô Quyền, Hải Phòng        60.0   \n",
       "2      90m2          Đường Hoàng Thế Thiện, Hải An, Hải Phòng        90.0   \n",
       "3      24m2                                Lê Chân, Hải Phòng        24.0   \n",
       "4      73m2          Đường Lương Thế Vinh, Thanh Xuân, Hà Nội        73.0   \n",
       "...     ...                                               ...         ...   \n",
       "2035  330m2          Đường Ngô Thì Nhậm, Hai Bà Trưng, Hà Nội       330.0   \n",
       "2036   35m2                Đường Hàng Bông, Hoàn Kiếm, Hà Nội        35.0   \n",
       "2037  738m2                  Đường Cửa Nam, Hoàn Kiếm, Hà Nội       738.0   \n",
       "2038  290m2                Đường Hàng Mành, Hoàn Kiếm, Hà Nội       290.0   \n",
       "2039   75m2                              Nha Trang, Khánh Hòa        75.0   \n",
       "\n",
       "      price_per_m2  \n",
       "0     1.500000e+05  \n",
       "1     8.333333e+04  \n",
       "2     2.222222e+05  \n",
       "3     8.333333e+05  \n",
       "4     1.643836e+05  \n",
       "...            ...  \n",
       "2035  8.909091e+05  \n",
       "2036  1.057143e+06  \n",
       "2037  1.355014e+05  \n",
       "2038  3.103448e+05  \n",
       "2039  2.000000e+05  \n",
       "\n",
       "[1956 rows x 6 columns]"
      ]
     },
     "execution_count": 13,
     "metadata": {},
     "output_type": "execute_result"
    }
   ],
   "source": [
    "# Áp dụng hàm tùy chỉnh để tạo cột mới\n",
    "df = df[['Title','Price','Area','address','area_value','price_per_m2']]\n",
    "# df = df.drop(columns=['price_per_m2_nghin','price_per_m2_trieu2','price_per_m2_trieu','price_value_nghin','price_value_trieu2']).dropna()\n",
    "df"
   ]
  },
  {
   "cell_type": "code",
   "execution_count": 14,
   "metadata": {},
   "outputs": [
    {
     "name": "stdout",
     "output_type": "stream",
     "text": [
      "<class 'pandas.core.frame.DataFrame'>\n",
      "Int64Index: 1955 entries, 0 to 2039\n",
      "Data columns (total 6 columns):\n",
      " #   Column        Non-Null Count  Dtype  \n",
      "---  ------        --------------  -----  \n",
      " 0   Title         1955 non-null   object \n",
      " 1   Price         1955 non-null   object \n",
      " 2   Area          1955 non-null   object \n",
      " 3   address       1955 non-null   object \n",
      " 4   area_value    1955 non-null   float64\n",
      " 5   price_per_m2  1955 non-null   float64\n",
      "dtypes: float64(2), object(4)\n",
      "memory usage: 106.9+ KB\n"
     ]
    }
   ],
   "source": [
    "df = df.dropna(subset=['price_per_m2'])\n",
    "df.info()"
   ]
  },
  {
   "cell_type": "code",
   "execution_count": 15,
   "metadata": {},
   "outputs": [],
   "source": [
    "list_api_keys = [\n",
    "\"N5qb2q5dSfly3fnqWMsDPqVMWUd1yRbTBxbT34hvw_g\",\n",
    "\"SsQNhtNfemZJr_FzCYZlub29VeTTjymT3Qm6syC50W8\",\n",
    "\"br4m9W3KMhrPa51Vru5M1mWJYCfaVFvWiP3kB2gEQUA\",\n",
    "\"spdVYGb-b6cgokZBOuwGG4b3WbmgsxQqv7tudjdOfLc\",\n",
    "\"0zeR-GEwo5Od-poIZYTGrw-I80fC2C0b0q4F1Boa8oc\",\n",
    "\"WCpDyLiAACoL9zwSFQQa_HboP-HdWXSM601W1N02aeg\",\n",
    "\"faJrm5egL12NmLivrDsbqz44I47DhbJQUIg89L3TdIo\",\n",
    "\"cdXQHZ3zzsZv-n04kjimcml7e3BRKcR2H3wl8XPi6SU\",\n",
    "\"RBRLSkMgpwy6QF0jKsXs-jXEliqtAwwD_jd0DbHrEN8\",\n",
    "\"Dd-n66bTKOIKeQ0H6nRvIOMWatnJ_viPxKMNGpxsFa4\",\n",
    "\"q-Ao_RRfZNyfQPp2XsnYGbrOItF6SlXN0jObPIKVnk\",\n",
    "\"ufLjrWIrvjyLHzL1TZIEOZjKpgolDMBUPXUwoIblgs0\",\n",
    "\"PgxoArILmRDFQreVp3pC6bexYfcKIVwMMN4oKpa8VOo\",\n",
    "\"tvjh1g0Xygp6DMsH8n5hX41jgbNh3VE61MsnWHYkfZw\",\n",
    "\"d_8_FhktHjeMh91gB9bBKGHgMJFC6auZqHThhlHL9Hw\",\n",
    "\"P1RAwTjkXvZUQLjHyi06Zm1YP1KeaZMJdjaNN1ZeOeE\",\n",
    "\"DQV3KQ2U9DLoro0jMQUoIr-PQMKBpKIEpOqXzF1A498\",\n",
    "\"6IcCytBh4PkKOC3YE2Smw4IGdAyTD7XTtsmgtxF-kdY\",\n",
    "\"1EotnhALO_Xf7d5mlOVefECdfpbgPG_Dik0TeOcQauQ\",\n",
    "\"92hxCAU523jWUFRXMhM-p3w66P3PxYfY_tZm9pPeShU\",\n",
    "\"KwvOafjkobVhF8Iz63lMyNooS-hjaYgmHdZrqVVVHWw\",\n",
    "\"UfHD68dH4O9ld-NS22Se6Bls98P9aPZhFq4hA_H7-74\",\n",
    "\"c6NrKs_BpAX4OdRFKAVSDeUaQTjSpNF8dCxjcLT6AfE\",\n",
    "\"mwA5L1GvWFvnwIYL-U1kP0RDsZ61ElOKAH7wnbsTs4M\"\n",
    "]"
   ]
  },
  {
   "cell_type": "code",
   "execution_count": 16,
   "metadata": {},
   "outputs": [],
   "source": [
    "# Hàm gọi api here để lấy thông tin vị trí từ địa chỉ chi tiết\n",
    "import requests"
   ]
  },
  {
   "cell_type": "code",
   "execution_count": 17,
   "metadata": {},
   "outputs": [],
   "source": [
    "\n",
    "def get_location(address, api_key):\n",
    "    #api_key = \"mwA5L1GvWFvnwIYL-U1kP0RDsZ61ElOKAH7wnbsTs4M\"\n",
    "\n",
    "    url = f'https://geocode.search.hereapi.com/v1/geocode?q={address}&apiKey={api_key}'\n",
    "    \n",
    "    try:\n",
    "        # Gửi yêu cầu API\n",
    "        response = requests.get(url)\n",
    "        \n",
    "        # Nếu API key đã hết hạn, thử API key tiếp theo trong danh sách\n",
    "\n",
    "        if response.status_code == 429:\n",
    "            return {\"lat\": \"\", \"lng\": \"\", \"House_number\": \"\", \"Street\": \"\", \"Ward\": \"\", \"District\": \"\", \"City\": \"\", \"progress\": \"False\" }\n",
    "        else: \n",
    "            data = response.json()    \n",
    "            # Xử lý kết quả và trả về\n",
    "            if data == {'items': []}: \n",
    "                list_address = {\"lat\": \"\", \"lng\": \"\", \"House_number\": \"\", \"Street\": \"\", \"Ward\": \"\", \"District\": \"\", \"City\": \"\", \"progress\": \"True\" }\n",
    "            else: \n",
    "                result = data['items'][0]\n",
    "                position = result['position']\n",
    "                lat = position.get('lat', '')\n",
    "                long = position.get('lng', '')\n",
    "                address_info = result['address']\n",
    "                city = address_info.get('county', '')\n",
    "                district = address_info.get('city', '')\n",
    "                ward = address_info.get('district', '')\n",
    "                street = address_info.get('street', '')\n",
    "                houseNumber = address_info.get('houseNumber', '')\n",
    "                list_address = {\"lat\": lat, \"lng\": long, \"House_number\": houseNumber, \"Street\": street, \"Ward\": ward, \"District\": district, \"City\": city, \"progress\": \"True\" }\n",
    "    except:\n",
    "           # Nếu thử xảy ra lỗi trả ra tập rỗng và progess là False đánh dấu những case chưa xử lí\n",
    "        list_address = {\"lat\": \"\", \"lng\": \"\", \"House_number\": \"\", \"Street\": \"\", \"Ward\": \"\", \"District\": \"\", \"City\": \"\", \"progress\": \"False\" }\n",
    "           \n",
    "    return list_address\n",
    "\n",
    "# Hàm xử lí dữ liệu đầu vào là dataframe\n",
    "def out_put(df, api_key):\n",
    "    house_numbers = []\n",
    "    streets = []\n",
    "    wards = []\n",
    "    districts = []\n",
    "    cities = []\n",
    "    progresses = []\n",
    "    \n",
    "    for address in df[\"address\"]:\n",
    "        address_info = get_location(address,api_key)\n",
    "        house_numbers.append(address_info[\"House_number\"])\n",
    "        streets.append(address_info[\"Street\"])\n",
    "        wards.append(address_info[\"Ward\"])\n",
    "        districts.append(address_info[\"District\"])\n",
    "        cities.append(address_info[\"City\"])\n",
    "        progresses.append(address_info[\"progress\"])\n",
    "    \n",
    "    df[\"House_number\"] = house_numbers\n",
    "    df[\"Street\"] = streets\n",
    "    df[\"Ward\"] = wards\n",
    "    df[\"District\"] = districts\n",
    "    df[\"City\"] = cities\n",
    "    df[\"progress\"] = progresses\n",
    "\n",
    "    return df"
   ]
  },
  {
   "cell_type": "code",
   "execution_count": 18,
   "metadata": {},
   "outputs": [],
   "source": [
    "df_test = df"
   ]
  },
  {
   "cell_type": "code",
   "execution_count": 19,
   "metadata": {},
   "outputs": [],
   "source": [
    "# Calculate the number of groups\n",
    "num_groups = len(df_test) // 1000\n",
    "\n",
    "# Calculate the number of remaining rows\n",
    "remaining_rows = len(df_test) % 1000\n",
    "\n",
    "# Create a list to store the new dataframes\n",
    "dfs = []\n",
    "\n",
    "# Split the dataframe into groups of two rows each\n",
    "for i in range(num_groups):\n",
    "    start_index = i * 1000\n",
    "    end_index = start_index + 1000\n",
    "    df_group = df_test[start_index:end_index].copy()\n",
    "    dfs.append(df_group)\n",
    "\n",
    "# Add the remaining rows to the last dataframe\n",
    "if remaining_rows > 0:\n",
    "    last_df = df_test[-remaining_rows:].copy()\n",
    "    dfs.append(last_df)"
   ]
  },
  {
   "cell_type": "code",
   "execution_count": 20,
   "metadata": {},
   "outputs": [
    {
     "name": "stdout",
     "output_type": "stream",
     "text": [
      "Time: 3.992691437403361 phút\n",
      "Time: 3.8345983068148297 phút\n",
      "Done\n"
     ]
    }
   ],
   "source": [
    "# tiến hành chạy multi thread\n",
    "import threading\n",
    "import time\n",
    "\n",
    "final = []\n",
    "def out_put_with_time(df, api_key):\n",
    "    start_time = time.time()\n",
    "    out_put(df, api_key)\n",
    "    end_time = time.time()\n",
    "    execution_time = end_time - start_time\n",
    "    print(f\"Time: {execution_time/60} phút\")\n",
    "\n",
    "for df , api_key in zip(dfs, list_api_keys):\n",
    "    thread = threading.Thread(target=out_put_with_time, args=(df,api_key))\n",
    "    thread.start()\n",
    "    thread.join()\n",
    "    final.append(df)\n",
    "\n",
    "print(\"Done\")"
   ]
  },
  {
   "cell_type": "code",
   "execution_count": 21,
   "metadata": {},
   "outputs": [
    {
     "name": "stdout",
     "output_type": "stream",
     "text": [
      "<class 'pandas.core.frame.DataFrame'>\n",
      "RangeIndex: 1955 entries, 0 to 1954\n",
      "Data columns (total 12 columns):\n",
      " #   Column        Non-Null Count  Dtype  \n",
      "---  ------        --------------  -----  \n",
      " 0   Title         1955 non-null   object \n",
      " 1   Price         1955 non-null   object \n",
      " 2   Area          1955 non-null   object \n",
      " 3   address       1955 non-null   object \n",
      " 4   area_value    1955 non-null   float64\n",
      " 5   price_per_m2  1955 non-null   float64\n",
      " 6   House_number  1955 non-null   object \n",
      " 7   Street        1955 non-null   object \n",
      " 8   Ward          1955 non-null   object \n",
      " 9   District      1955 non-null   object \n",
      " 10  City          1955 non-null   object \n",
      " 11  progress      1955 non-null   object \n",
      "dtypes: float64(2), object(10)\n",
      "memory usage: 183.4+ KB\n"
     ]
    }
   ],
   "source": [
    "merged_df = pd.concat(final, ignore_index=True)\n",
    "merged_df.info()\n",
    "# merged_df.head(4)\n",
    "#check case false\n"
   ]
  },
  {
   "cell_type": "code",
   "execution_count": 22,
   "metadata": {},
   "outputs": [
    {
     "name": "stdout",
     "output_type": "stream",
     "text": [
      "<class 'pandas.core.frame.DataFrame'>\n",
      "Int64Index: 1955 entries, 0 to 1954\n",
      "Data columns (total 12 columns):\n",
      " #   Column        Non-Null Count  Dtype  \n",
      "---  ------        --------------  -----  \n",
      " 0   Title         1955 non-null   object \n",
      " 1   Price         1955 non-null   object \n",
      " 2   Area          1955 non-null   object \n",
      " 3   address       1955 non-null   object \n",
      " 4   area_value    1955 non-null   float64\n",
      " 5   price_per_m2  1955 non-null   float64\n",
      " 6   House_number  1955 non-null   object \n",
      " 7   Street        1955 non-null   object \n",
      " 8   Ward          1955 non-null   object \n",
      " 9   District      1955 non-null   object \n",
      " 10  City          1955 non-null   object \n",
      " 11  progress      1955 non-null   object \n",
      "dtypes: float64(2), object(10)\n",
      "memory usage: 198.6+ KB\n"
     ]
    }
   ],
   "source": [
    "merged_df1 = merged_df[merged_df[\"progress\"] != \"False\"]\n",
    "merged_df1.info()"
   ]
  },
  {
   "cell_type": "code",
   "execution_count": 23,
   "metadata": {},
   "outputs": [
    {
     "name": "stdout",
     "output_type": "stream",
     "text": [
      "<class 'pandas.core.frame.DataFrame'>\n",
      "Int64Index: 0 entries\n",
      "Data columns (total 12 columns):\n",
      " #   Column        Non-Null Count  Dtype  \n",
      "---  ------        --------------  -----  \n",
      " 0   Title         0 non-null      object \n",
      " 1   Price         0 non-null      object \n",
      " 2   Area          0 non-null      object \n",
      " 3   address       0 non-null      object \n",
      " 4   area_value    0 non-null      float64\n",
      " 5   price_per_m2  0 non-null      float64\n",
      " 6   House_number  0 non-null      object \n",
      " 7   Street        0 non-null      object \n",
      " 8   Ward          0 non-null      object \n",
      " 9   District      0 non-null      object \n",
      " 10  City          0 non-null      object \n",
      " 11  progress      0 non-null      object \n",
      "dtypes: float64(2), object(10)\n",
      "memory usage: 0.0+ bytes\n"
     ]
    }
   ],
   "source": [
    "df2 = merged_df[merged_df[\"progress\"] == \"False\"]\n",
    "df2.info()"
   ]
  },
  {
   "cell_type": "code",
   "execution_count": 24,
   "metadata": {},
   "outputs": [],
   "source": [
    "def get_location(address, api_key):\n",
    "    #api_key = \"mwA5L1GvWFvnwIYL-U1kP0RDsZ61ElOKAH7wnbsTs4M\"\n",
    "\n",
    "    url = f'https://geocode.search.hereapi.com/v1/geocode?q={address}&apiKey={api_key}'\n",
    "    \n",
    "    try:\n",
    "        # Gửi yêu cầu API\n",
    "        response = requests.get(url)\n",
    "        \n",
    "        # Nếu API key đã hết hạn, thử API key tiếp theo trong danh sách\n",
    "\n",
    "        if response.status_code == 429:\n",
    "            return {\"lat\": \"\", \"lng\": \"\", \"House_number\": \"\", \"Street\": \"\", \"Ward\": \"\", \"District\": \"\", \"City\": \"\", \"progress\": \"False\" }\n",
    "        else: \n",
    "            data = response.json()    \n",
    "            # Xử lý kết quả và trả về\n",
    "            if data == {'items': []}: \n",
    "                list_address = {\"lat\": \"\", \"lng\": \"\", \"House_number\": \"\", \"Street\": \"\", \"Ward\": \"\", \"District\": \"\", \"City\": \"\", \"progress\": \"True\" }\n",
    "            else: \n",
    "                result = data['items'][0]\n",
    "                position = result['position']\n",
    "                lat = position.get('lat', '')\n",
    "                long = position.get('lng', '')\n",
    "                address_info = result['address']\n",
    "                city = address_info.get('county', '')\n",
    "                district = address_info.get('city', '')\n",
    "                ward = address_info.get('district', '')\n",
    "                street = address_info.get('street', '')\n",
    "                houseNumber = address_info.get('houseNumber', '')\n",
    "                list_address = {\"lat\": lat, \"lng\": long, \"House_number\": houseNumber, \"Street\": street, \"Ward\": ward, \"District\": district, \"City\": city, \"progress\": \"True\" }\n",
    "    except:\n",
    "           # Nếu thử xảy ra lỗi trả ra tập rỗng và progess là False đánh dấu những case chưa xử lí\n",
    "        list_address = {\"lat\": \"\", \"lng\": \"\", \"House_number\": \"\", \"Street\": \"\", \"Ward\": \"\", \"District\": \"\", \"City\": \"\", \"progress\": \"False\" }\n",
    "           \n",
    "    return list_address\n",
    "\n",
    "# Hàm xử lí dữ liệu đầu vào là dataframe\n",
    "def out_put(df2, api_key):\n",
    "    house_numbers = []\n",
    "    streets = []\n",
    "    wards = []\n",
    "    districts = []\n",
    "    cities = []\n",
    "    progresses = []\n",
    "    \n",
    "    for address in df2[\"address\"]:\n",
    "        address_info = get_location(address,api_key)\n",
    "        house_numbers.append(address_info[\"House_number\"])\n",
    "        streets.append(address_info[\"Street\"])\n",
    "        wards.append(address_info[\"Ward\"])\n",
    "        districts.append(address_info[\"District\"])\n",
    "        cities.append(address_info[\"City\"])\n",
    "        progresses.append(address_info[\"progress\"])\n",
    "    \n",
    "    df2[\"House_number\"] = house_numbers\n",
    "    df2[\"Street\"] = streets\n",
    "    df2[\"Ward\"] = wards\n",
    "    df2[\"District\"] = districts\n",
    "    df2[\"City\"] = cities\n",
    "    df2[\"progress\"] = progresses\n",
    "\n",
    "    return df2"
   ]
  },
  {
   "cell_type": "code",
   "execution_count": 25,
   "metadata": {},
   "outputs": [],
   "source": [
    "df_test2 = df2"
   ]
  },
  {
   "cell_type": "code",
   "execution_count": 26,
   "metadata": {},
   "outputs": [],
   "source": [
    "# Calculate the number of groups\n",
    "num_groups = len(df_test2) // 1000\n",
    "\n",
    "# Calculate the number of remaining rows\n",
    "remaining_rows = len(df_test2) % 1000\n",
    "\n",
    "# Create a list to store the new dataframes\n",
    "dfs2 = []\n",
    "\n",
    "# Split the dataframe into groups of two rows each\n",
    "for i in range(num_groups):\n",
    "    start_index = i * 1000\n",
    "    end_index = start_index + 1000\n",
    "    df_group2 = df_test2[start_index:end_index].copy()\n",
    "    dfs2.append(df_group2)\n",
    "\n",
    "# Add the remaining rows to the last dataframe\n",
    "if remaining_rows > 0:\n",
    "    last_df2 = df_test2[-remaining_rows:].copy()\n",
    "    dfs2.append(last_df2)"
   ]
  },
  {
   "cell_type": "code",
   "execution_count": 27,
   "metadata": {},
   "outputs": [
    {
     "name": "stdout",
     "output_type": "stream",
     "text": [
      "Done\n"
     ]
    }
   ],
   "source": [
    "# tiến hành chạy multi thread\n",
    "import threading\n",
    "import time\n",
    "\n",
    "final2 = []\n",
    "def out_put_with_time(df2, api_key):\n",
    "    start_time = time.time()\n",
    "    out_put(df2, api_key)\n",
    "    end_time = time.time()\n",
    "    execution_time = end_time - start_time\n",
    "    print(f\"Time: {execution_time/60} phút\")\n",
    "\n",
    "for df2 , api_key in zip(dfs2, list_api_keys):\n",
    "    thread = threading.Thread(target=out_put_with_time, args=(df2,api_key))\n",
    "    thread.start()\n",
    "    thread.join()\n",
    "    final2.append(df2)\n",
    "\n",
    "print(\"Done\")"
   ]
  },
  {
   "cell_type": "code",
   "execution_count": 28,
   "metadata": {},
   "outputs": [
    {
     "ename": "ValueError",
     "evalue": "No objects to concatenate",
     "output_type": "error",
     "traceback": [
      "\u001b[1;31m---------------------------------------------------------------------------\u001b[0m",
      "\u001b[1;31mValueError\u001b[0m                                Traceback (most recent call last)",
      "Cell \u001b[1;32mIn [28], line 1\u001b[0m\n\u001b[1;32m----> 1\u001b[0m merged_df2 \u001b[38;5;241m=\u001b[39m \u001b[43mpd\u001b[49m\u001b[38;5;241;43m.\u001b[39;49m\u001b[43mconcat\u001b[49m\u001b[43m(\u001b[49m\u001b[43mfinal2\u001b[49m\u001b[43m,\u001b[49m\u001b[43m \u001b[49m\u001b[43mignore_index\u001b[49m\u001b[38;5;241;43m=\u001b[39;49m\u001b[38;5;28;43;01mTrue\u001b[39;49;00m\u001b[43m)\u001b[49m\n\u001b[0;32m      2\u001b[0m merged_df2\u001b[38;5;241m.\u001b[39minfo()\n",
      "File \u001b[1;32mc:\\Users\\son.dn\\AppData\\Local\\Programs\\Python\\Python310\\lib\\site-packages\\pandas\\util\\_decorators.py:311\u001b[0m, in \u001b[0;36mdeprecate_nonkeyword_arguments.<locals>.decorate.<locals>.wrapper\u001b[1;34m(*args, **kwargs)\u001b[0m\n\u001b[0;32m    305\u001b[0m \u001b[38;5;28;01mif\u001b[39;00m \u001b[38;5;28mlen\u001b[39m(args) \u001b[38;5;241m>\u001b[39m num_allow_args:\n\u001b[0;32m    306\u001b[0m     warnings\u001b[38;5;241m.\u001b[39mwarn(\n\u001b[0;32m    307\u001b[0m         msg\u001b[38;5;241m.\u001b[39mformat(arguments\u001b[38;5;241m=\u001b[39marguments),\n\u001b[0;32m    308\u001b[0m         \u001b[38;5;167;01mFutureWarning\u001b[39;00m,\n\u001b[0;32m    309\u001b[0m         stacklevel\u001b[38;5;241m=\u001b[39mstacklevel,\n\u001b[0;32m    310\u001b[0m     )\n\u001b[1;32m--> 311\u001b[0m \u001b[38;5;28;01mreturn\u001b[39;00m func(\u001b[38;5;241m*\u001b[39margs, \u001b[38;5;241m*\u001b[39m\u001b[38;5;241m*\u001b[39mkwargs)\n",
      "File \u001b[1;32mc:\\Users\\son.dn\\AppData\\Local\\Programs\\Python\\Python310\\lib\\site-packages\\pandas\\core\\reshape\\concat.py:347\u001b[0m, in \u001b[0;36mconcat\u001b[1;34m(objs, axis, join, ignore_index, keys, levels, names, verify_integrity, sort, copy)\u001b[0m\n\u001b[0;32m    143\u001b[0m \u001b[38;5;129m@deprecate_nonkeyword_arguments\u001b[39m(version\u001b[38;5;241m=\u001b[39m\u001b[38;5;28;01mNone\u001b[39;00m, allowed_args\u001b[38;5;241m=\u001b[39m[\u001b[38;5;124m\"\u001b[39m\u001b[38;5;124mobjs\u001b[39m\u001b[38;5;124m\"\u001b[39m])\n\u001b[0;32m    144\u001b[0m \u001b[38;5;28;01mdef\u001b[39;00m \u001b[38;5;21mconcat\u001b[39m(\n\u001b[0;32m    145\u001b[0m     objs: Iterable[NDFrame] \u001b[38;5;241m|\u001b[39m Mapping[Hashable, NDFrame],\n\u001b[1;32m   (...)\u001b[0m\n\u001b[0;32m    154\u001b[0m     copy: \u001b[38;5;28mbool\u001b[39m \u001b[38;5;241m=\u001b[39m \u001b[38;5;28;01mTrue\u001b[39;00m,\n\u001b[0;32m    155\u001b[0m ) \u001b[38;5;241m-\u001b[39m\u001b[38;5;241m>\u001b[39m DataFrame \u001b[38;5;241m|\u001b[39m Series:\n\u001b[0;32m    156\u001b[0m     \u001b[38;5;124;03m\"\"\"\u001b[39;00m\n\u001b[0;32m    157\u001b[0m \u001b[38;5;124;03m    Concatenate pandas objects along a particular axis with optional set logic\u001b[39;00m\n\u001b[0;32m    158\u001b[0m \u001b[38;5;124;03m    along the other axes.\u001b[39;00m\n\u001b[1;32m   (...)\u001b[0m\n\u001b[0;32m    345\u001b[0m \u001b[38;5;124;03m    ValueError: Indexes have overlapping values: ['a']\u001b[39;00m\n\u001b[0;32m    346\u001b[0m \u001b[38;5;124;03m    \"\"\"\u001b[39;00m\n\u001b[1;32m--> 347\u001b[0m     op \u001b[38;5;241m=\u001b[39m \u001b[43m_Concatenator\u001b[49m\u001b[43m(\u001b[49m\n\u001b[0;32m    348\u001b[0m \u001b[43m        \u001b[49m\u001b[43mobjs\u001b[49m\u001b[43m,\u001b[49m\n\u001b[0;32m    349\u001b[0m \u001b[43m        \u001b[49m\u001b[43maxis\u001b[49m\u001b[38;5;241;43m=\u001b[39;49m\u001b[43maxis\u001b[49m\u001b[43m,\u001b[49m\n\u001b[0;32m    350\u001b[0m \u001b[43m        \u001b[49m\u001b[43mignore_index\u001b[49m\u001b[38;5;241;43m=\u001b[39;49m\u001b[43mignore_index\u001b[49m\u001b[43m,\u001b[49m\n\u001b[0;32m    351\u001b[0m \u001b[43m        \u001b[49m\u001b[43mjoin\u001b[49m\u001b[38;5;241;43m=\u001b[39;49m\u001b[43mjoin\u001b[49m\u001b[43m,\u001b[49m\n\u001b[0;32m    352\u001b[0m \u001b[43m        \u001b[49m\u001b[43mkeys\u001b[49m\u001b[38;5;241;43m=\u001b[39;49m\u001b[43mkeys\u001b[49m\u001b[43m,\u001b[49m\n\u001b[0;32m    353\u001b[0m \u001b[43m        \u001b[49m\u001b[43mlevels\u001b[49m\u001b[38;5;241;43m=\u001b[39;49m\u001b[43mlevels\u001b[49m\u001b[43m,\u001b[49m\n\u001b[0;32m    354\u001b[0m \u001b[43m        \u001b[49m\u001b[43mnames\u001b[49m\u001b[38;5;241;43m=\u001b[39;49m\u001b[43mnames\u001b[49m\u001b[43m,\u001b[49m\n\u001b[0;32m    355\u001b[0m \u001b[43m        \u001b[49m\u001b[43mverify_integrity\u001b[49m\u001b[38;5;241;43m=\u001b[39;49m\u001b[43mverify_integrity\u001b[49m\u001b[43m,\u001b[49m\n\u001b[0;32m    356\u001b[0m \u001b[43m        \u001b[49m\u001b[43mcopy\u001b[49m\u001b[38;5;241;43m=\u001b[39;49m\u001b[43mcopy\u001b[49m\u001b[43m,\u001b[49m\n\u001b[0;32m    357\u001b[0m \u001b[43m        \u001b[49m\u001b[43msort\u001b[49m\u001b[38;5;241;43m=\u001b[39;49m\u001b[43msort\u001b[49m\u001b[43m,\u001b[49m\n\u001b[0;32m    358\u001b[0m \u001b[43m    \u001b[49m\u001b[43m)\u001b[49m\n\u001b[0;32m    360\u001b[0m     \u001b[38;5;28;01mreturn\u001b[39;00m op\u001b[38;5;241m.\u001b[39mget_result()\n",
      "File \u001b[1;32mc:\\Users\\son.dn\\AppData\\Local\\Programs\\Python\\Python310\\lib\\site-packages\\pandas\\core\\reshape\\concat.py:404\u001b[0m, in \u001b[0;36m_Concatenator.__init__\u001b[1;34m(self, objs, axis, join, keys, levels, names, ignore_index, verify_integrity, copy, sort)\u001b[0m\n\u001b[0;32m    401\u001b[0m     objs \u001b[38;5;241m=\u001b[39m \u001b[38;5;28mlist\u001b[39m(objs)\n\u001b[0;32m    403\u001b[0m \u001b[38;5;28;01mif\u001b[39;00m \u001b[38;5;28mlen\u001b[39m(objs) \u001b[38;5;241m==\u001b[39m \u001b[38;5;241m0\u001b[39m:\n\u001b[1;32m--> 404\u001b[0m     \u001b[38;5;28;01mraise\u001b[39;00m \u001b[38;5;167;01mValueError\u001b[39;00m(\u001b[38;5;124m\"\u001b[39m\u001b[38;5;124mNo objects to concatenate\u001b[39m\u001b[38;5;124m\"\u001b[39m)\n\u001b[0;32m    406\u001b[0m \u001b[38;5;28;01mif\u001b[39;00m keys \u001b[38;5;129;01mis\u001b[39;00m \u001b[38;5;28;01mNone\u001b[39;00m:\n\u001b[0;32m    407\u001b[0m     objs \u001b[38;5;241m=\u001b[39m \u001b[38;5;28mlist\u001b[39m(com\u001b[38;5;241m.\u001b[39mnot_none(\u001b[38;5;241m*\u001b[39mobjs))\n",
      "\u001b[1;31mValueError\u001b[0m: No objects to concatenate"
     ]
    }
   ],
   "source": [
    "merged_df2 = pd.concat(final2, ignore_index=True)\n",
    "merged_df2.info()\n"
   ]
  },
  {
   "cell_type": "code",
   "execution_count": 29,
   "metadata": {},
   "outputs": [
    {
     "name": "stdout",
     "output_type": "stream",
     "text": [
      "<class 'pandas.core.frame.DataFrame'>\n",
      "Int64Index: 1955 entries, 0 to 1954\n",
      "Data columns (total 12 columns):\n",
      " #   Column        Non-Null Count  Dtype  \n",
      "---  ------        --------------  -----  \n",
      " 0   Title         1955 non-null   object \n",
      " 1   Price         1955 non-null   object \n",
      " 2   Area          1955 non-null   object \n",
      " 3   address       1955 non-null   object \n",
      " 4   area_value    1955 non-null   float64\n",
      " 5   price_per_m2  1955 non-null   float64\n",
      " 6   House_number  1955 non-null   object \n",
      " 7   Street        1955 non-null   object \n",
      " 8   Ward          1955 non-null   object \n",
      " 9   District      1955 non-null   object \n",
      " 10  City          1955 non-null   object \n",
      " 11  progress      1955 non-null   object \n",
      "dtypes: float64(2), object(10)\n",
      "memory usage: 198.6+ KB\n"
     ]
    }
   ],
   "source": [
    "merged_df1.info()"
   ]
  },
  {
   "cell_type": "code",
   "execution_count": null,
   "metadata": {},
   "outputs": [
    {
     "name": "stdout",
     "output_type": "stream",
     "text": [
      "<class 'pandas.core.frame.DataFrame'>\n",
      "RangeIndex: 1955 entries, 0 to 1954\n",
      "Data columns (total 12 columns):\n",
      " #   Column        Non-Null Count  Dtype  \n",
      "---  ------        --------------  -----  \n",
      " 0   Title         1955 non-null   object \n",
      " 1   Price         1955 non-null   object \n",
      " 2   Area          1955 non-null   object \n",
      " 3   address       1955 non-null   object \n",
      " 4   area_value    1955 non-null   float64\n",
      " 5   price_per_m2  1955 non-null   float64\n",
      " 6   House_number  1955 non-null   object \n",
      " 7   Street        1955 non-null   object \n",
      " 8   Ward          1955 non-null   object \n",
      " 9   District      1955 non-null   object \n",
      " 10  City          1955 non-null   object \n",
      " 11  progress      1955 non-null   object \n",
      "dtypes: float64(2), object(10)\n",
      "memory usage: 183.4+ KB\n"
     ]
    }
   ],
   "source": [
    "merge_final = pd.concat([merged_df1,merged_df2], ignore_index=True)\n",
    "merge_final.info()\n"
   ]
  },
  {
   "cell_type": "code",
   "execution_count": 31,
   "metadata": {},
   "outputs": [],
   "source": [
    "# merged_df['City'] = np.where(merged_df['City'].str.contains('[a-zA-Z]'),merged_df['City'],merged_df['city'])\n",
    "# merged_df['District'] = np.where(merged_df['District'].str.contains('[a-zA-Z]'),merged_df['District'],merged_df['district'])\n",
    "merged_df1 = merged_df1.rename(columns={'price_per_m2':'price_per_m2_final'})\n",
    "merged_df1['price_value_trieu'] = merged_df1['price_per_m2_final']*merged_df1['area_value']/1000000\n"
   ]
  },
  {
   "cell_type": "code",
   "execution_count": 32,
   "metadata": {},
   "outputs": [
    {
     "name": "stdout",
     "output_type": "stream",
     "text": [
      "<class 'pandas.core.frame.DataFrame'>\n",
      "Int64Index: 1955 entries, 0 to 1954\n",
      "Data columns (total 8 columns):\n",
      " #   Column              Non-Null Count  Dtype  \n",
      "---  ------              --------------  -----  \n",
      " 0   City                1955 non-null   object \n",
      " 1   District            1955 non-null   object \n",
      " 2   Ward                1955 non-null   object \n",
      " 3   Street              1955 non-null   object \n",
      " 4   address             1955 non-null   object \n",
      " 5   area_value          1955 non-null   float64\n",
      " 6   price_value_trieu   1955 non-null   float64\n",
      " 7   price_per_m2_final  1955 non-null   float64\n",
      "dtypes: float64(3), object(5)\n",
      "memory usage: 137.5+ KB\n"
     ]
    }
   ],
   "source": [
    "df_final_nhaphonet = merged_df1[['City','District','Ward','Street','address','area_value','price_value_trieu','price_per_m2_final']]\n",
    "df_final_nhaphonet.info()"
   ]
  },
  {
   "cell_type": "code",
   "execution_count": null,
   "metadata": {},
   "outputs": [],
   "source": [
    "# df_final_nhaphonet = pd.read_csv(r\"D:\\OneDrive\\KiotViet\\Python_for_work\\KFinance\\CSV_crawl_data\\final_bds_nhaphonet.csv\")\n"
   ]
  },
  {
   "cell_type": "code",
   "execution_count": null,
   "metadata": {},
   "outputs": [],
   "source": [
    "df_final_nhaphonet['price_per_m2_final'] = df_final_nhaphonet['price_per_m2']\n",
    "df_final_nhaphonet = df_final_nhaphonet[['City','District','Ward','Street','address','area_value','price_per_m2_final']]\n"
   ]
  },
  {
   "cell_type": "code",
   "execution_count": 33,
   "metadata": {},
   "outputs": [],
   "source": [
    "df_final_nhaphonet.to_csv(r\"D:\\OneDrive\\KiotViet\\Python_for_work\\KFinance\\CSV_crawl_data\\final_bds_nhaphonet.csv\", index=False, mode = 'w', encoding=\"utf-8-sig\")"
   ]
  }
 ],
 "metadata": {
  "kernelspec": {
   "display_name": "huyenv",
   "language": "python",
   "name": "python3"
  },
  "language_info": {
   "codemirror_mode": {
    "name": "ipython",
    "version": 3
   },
   "file_extension": ".py",
   "mimetype": "text/x-python",
   "name": "python",
   "nbconvert_exporter": "python",
   "pygments_lexer": "ipython3",
   "version": "3.10.6"
  }
 },
 "nbformat": 4,
 "nbformat_minor": 2
}
