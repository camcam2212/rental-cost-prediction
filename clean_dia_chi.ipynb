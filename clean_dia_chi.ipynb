{
 "cells": [
  {
   "cell_type": "markdown",
   "metadata": {},
   "source": [
    "1. Format lại địa chỉ  \n",
    "Đầu vào sẽ là địa chỉ (lat,long) → đầu ra số nhà, đường, phường, quận, thành phố.\n"
   ]
  },
  {
   "cell_type": "code",
   "execution_count": null,
   "metadata": {},
   "outputs": [],
   "source": [
    "import requests\n",
    "\n",
    "def get_location(lat, long):\n",
    "    api_keys = [\"mwA5L1GvWFvnwIYL-U1kP0RDsZ61ElOKAH7wnbsTs4M\",\n",
    "                \"br4m9W3KMhrPa51Vru5M1mWJYCfaVFvWiP3kB2gEQUA\",\n",
    "                \"spdVYGb-b6cgokZBOuwGG4b3WbmgsxQqv7tudjdOfLc\",\n",
    "                \"0zeR-GEwo5Od-poIZYTGrw-I80fC2C0b0q4F1Boa8oc\",\n",
    "                \"UfHD68dH4O9ld-NS22Se6Bls98P9aPZhFq4hA_H7-74\",\n",
    "                \"c6NrKs_BpAX4OdRFKAVSDeUaQTjSpNF8dCxjcLT6AfE\"]\n",
    "    current_key_index = 0\n",
    "    api_key = api_keys[current_key_index]\n",
    "    url = f'https://revgeocode.search.hereapi.com/v1/revgeocode?apikey={api_key}&at={lat},{long}'\n",
    "    \n",
    "    try:\n",
    "        # Gửi yêu cầu API\n",
    "        response = requests.get(url)\n",
    "        \n",
    "        # Nếu API key đã hết hạn, thử API key tiếp theo trong danh sách\n",
    "        key_count = 0\n",
    "        while response.status_code == 429:\n",
    "            key_count += 1\n",
    "            if key_count == len(api_keys):\n",
    "                return { \"House_number\": \"\", \"Street\": \"\", \"Ward\": \"\", \"District\": \"\", \"City\": \"\", \"progress\": \"False\" }\n",
    "            current_key_index = current_key_index + 1\n",
    "            api_key = api_keys[current_key_index]\n",
    "            url = f'https://revgeocode.search.hereapi.com/v1/revgeocode?apikey={api_key}&at={lat},{long}'\n",
    "            response = requests.get(url)\n",
    "            \n",
    "        # Xử lý kết quả và trả về\n",
    "        data = response.json()\n",
    "        address = data['items'][0]['address']\n",
    "        city = address.get('county', '')\n",
    "        district = address.get('city', '')\n",
    "        ward = address.get('district', '')\n",
    "        street = address.get('street', '')\n",
    "        houseNumber = address.get('houseNumber', '')\n",
    "        result = { \"House_number\": houseNumber, \"Street\": street, \"Ward\": ward, \"District\": district, \"City\": city, \"progress\": \"True\" }\n",
    "    except:\n",
    "        result = { \"House_number\": \"\", \"Street\": \"\", \"Ward\": \"\", \"District\": \"\", \"City\": \"\", \"progress\": \"False\" }\n",
    "    \n",
    "    return result\n"
   ]
  },
  {
   "cell_type": "code",
   "execution_count": null,
   "metadata": {},
   "outputs": [],
   "source": [
    "# Đọc file đầu vào\n",
    "df1 = pd.read_csv(\"\")\n",
    "# Lặp qua tất cả các cặp giá trị (lat, long)\n",
    "address_info_list = []\n",
    "for lat, long in zip(df1[\"lat\"], df1[\"lng\"]):\n",
    "    address_info = get_location(lat, long)\n",
    "    address_info_list.append(address_info)\n",
    "\n",
    "# Tạo ra một DataFrame mới từ list này và thêm vào DataFrame gốc\n",
    "address_df = pd.DataFrame(address_info_list)\n",
    "df5 = pd.concat([df1, address_df], axis=1)"
   ]
  },
  {
   "cell_type": "markdown",
   "metadata": {},
   "source": [
    "2. Cleaning địa chỉ gian hàng KV\n",
    "Đầu vào sẽ là địa chỉ free text → đầu ra số nhà, đường, phường, quận, thành phố."
   ]
  },
  {
   "cell_type": "code",
   "execution_count": null,
   "metadata": {},
   "outputs": [],
   "source": [
    "# Đọc file đầu vào\n",
    "df2 = pd.read_csv(\"\")\n",
    "# Lặp qua tất cả address\n",
    "address_info_list = []\n",
    "for address in df2[\"address\"]:\n",
    "    address_info = get_location(address)\n",
    "    address_info_list.append(address_info)\n",
    "\n",
    "# Tạo ra một DataFrame mới từ list này và thêm vào DataFrame gốc\n",
    "address_df = pd.DataFrame(address_info_list)\n",
    "df10 = pd.concat([df2, address_df], axis=1)"
   ]
  },
  {
   "cell_type": "code",
   "execution_count": 1,
   "metadata": {},
   "outputs": [],
   "source": [
    "def cleaning_street(street):\n",
    "    if isinstance(street, str):\n",
    "        st = re.sub(\"(Hẻm|Ngõ|Ngách) \\d+\\/*\\d*\\/*\\d* \", \"\", street)\n",
    "        st = re.sub(\"(Hẻm T\\d+)|Hẻm \\d+[A-Za-z] \", \"\", st)\n",
    "        st = re.sub(r\"(30\\/4|30\\s(th[aá]ng\\s)?4|30\\s(th[aá]ng\\s)?tư)\", \"Đường 30 Tháng 4\", st, flags=re.IGNORECASE)\n",
    "        st = re.sub(r\"(3\\/2|3\\s(th[aá]ng\\s)?2|3\\s(th[aá]ng\\s)?hai)\", \"Đường 3 Tháng 2\", st, flags=re.IGNORECASE)\n",
    "        st = re.sub(r\"\\bQL\\.\", \"Quốc Lộ \", st)\n",
    "        st = re.sub(\"-\", \"/\", st)\n",
    "        st = st.strip()  # Loại bỏ khoảng trắng ở hai đầu của đường dẫn\n",
    "        lower_text = st.lower()\n",
    "        if not re.search(r'^chung cư|^hẻm|^ấp|^khu phố|^phố|^quốc lộ|^tổ', lower_text) and not re.search(r'^đường', lower_text):\n",
    "            st = \"Đường \" + st\n",
    "        return st\n",
    "    return street"
   ]
  },
  {
   "cell_type": "code",
   "execution_count": null,
   "metadata": {},
   "outputs": [],
   "source": [
    "df5[\"cleaned_street\"] = df5.apply(lambda x: cleaning_street(x.Street), axis=1)"
   ]
  },
  {
   "cell_type": "markdown",
   "metadata": {},
   "source": [
    "3. Cleaning lại tên đường và ngành hàng"
   ]
  },
  {
   "cell_type": "code",
   "execution_count": null,
   "metadata": {},
   "outputs": [],
   "source": [
    "def format_industry(row):\n",
    "    name = row['name']\n",
    "    industry = row['industry']\n",
    "    if industry in [\"Quán ăn\", \"Nhà hàng\"] and re.search(r'cơm|lẩu|nướng|quán|cháo|sườn|phở|bún|miến|nhậu|bia', name.lower()):\n",
    "        return \"Quán ăn\"\n",
    "    elif re.search(r'buffet', name.lower()):\n",
    "        return \"Buffet\"\n",
    "    elif industry == \"Trà sữa/Cà phê/Đồ uống\" and re.search(r'coffee|cà phê|cafe|cofe|coffe|cofee|ca phe|café', name.lower()):\n",
    "        return \"Cà phê\"\n",
    "    elif industry == \"Trà sữa/Cà phê/Đồ uống\":\n",
    "        return \"Trà sữa & Đồ uống\"\n",
    "    else:\n",
    "        return industry"
   ]
  },
  {
   "cell_type": "code",
   "execution_count": null,
   "metadata": {},
   "outputs": [],
   "source": [
    "df5['industry_fix'] = df5.apply(format_industry, axis=1)\n"
   ]
  },
  {
   "cell_type": "markdown",
   "metadata": {},
   "source": [
    "4. Mapping gian hàng Kv và gian hàng Google\n"
   ]
  },
  {
   "cell_type": "code",
   "execution_count": null,
   "metadata": {},
   "outputs": [],
   "source": [
    "# df1: Tập gian hàng google\n",
    "#Tạo key_1 và key_2 \n",
    "df1['key_1'] = df1.apply(lambda row: '|'.join([str(row[col]) for col in ['House_number', 'cleaned_street', 'Ward', 'District', 'City']]), axis=1)\n",
    "df1['key_2'] = df1.apply(lambda row: '|'.join([str(row[col]) for col in ['cleaned_street', 'Ward', 'District', 'City']]), axis=1)\n",
    "\n",
    "\n"
   ]
  },
  {
   "cell_type": "code",
   "execution_count": null,
   "metadata": {},
   "outputs": [],
   "source": [
    "# df1: Tập gian hàng Kv\n",
    "df2['key_1'] = df2.apply(lambda row: '|'.join([str(row[col]) for col in ['House_number', 'cleaned_street', 'Ward', 'District', 'City']]), axis=1)\n",
    "df2['key_2'] = df2.apply(lambda row: '|'.join([str(row[col]) for col in ['cleaned_street', 'Ward', 'District', 'City']]), axis=1)"
   ]
  },
  {
   "cell_type": "code",
   "execution_count": null,
   "metadata": {},
   "outputs": [],
   "source": [
    "# Tạo một từ điển để lưu trữ giá trị potentialid cho mỗi giá trị key_1 và key_2 trong DataFrame df2\n",
    "potentialid_dict = {}\n",
    "\n",
    "# Lặp lại qua DataFrame df2 và điền các giá trị potentialid vào từ điển\n",
    "for i, row in df2.iterrows():\n",
    "    if row['key_1'] not in potentialid_dict:\n",
    "        potentialid_dict[row['key_1']] = []\n",
    "    potentialid_dict[row['key_1']].append(row['potentialid'])\n",
    "    \n",
    "    if row['key_2'] not in potentialid_dict:\n",
    "        potentialid_dict[row['key_2']] = []\n",
    "    potentialid_dict[row['key_2']].append(row['potentialid'])\n",
    "# Định nghĩa biến used_potentialid\n",
    "used_potentialid = []\n",
    "# Lặp lại qua mỗi hàng trong DataFrame df1\n",
    "for i, row in df1.iterrows():\n",
    "    # Kiểm tra xem giá trị key_1 có tồn tại trong df2 hay không\n",
    "    if row['key_1'] in potentialid_dict:\n",
    "        # Điền các giá trị potentialid từ từ điển vào\n",
    "        potentialid_list = potentialid_dict[row['key_1']]\n",
    "    # Nếu giá trị key_1 không tồn tại trong df2, kiểm tra xem giá trị key_2 có tồn tại hay không\n",
    "    elif row['key_2'] in potentialid_dict:\n",
    "        # Điền các giá trị potentialid từ từ điển vào\n",
    "        potentialid_list = potentialid_dict[row['key_2']]\n",
    "    else:\n",
    "        # Nếu cả key_1 và key_2 đều không tồn tại trong df2, bỏ qua hàng này\n",
    "        continue\n",
    "        \n",
    "    # Kiểm tra xem có bất kỳ giá trị potentialid nào đã được sử dụng chưa\n",
    "    unused_potentialid_list = [pid for pid in potentialid_list if pid not in used_potentialid]\n",
    "    if not unused_potentialid_list:\n",
    "        continue\n",
    "    \n",
    "    # Nếu có giá trị potentialid chưa được sử dụng, điền giá trị đầu tiên vào df1 và thêm vào danh sách đã sử dụng\n",
    "    potentialid = unused_potentialid_list[0]\n",
    "    df1.loc[i, 'potentialid'] = potentialid\n",
    "    used_potentialid.append(potentialid)"
   ]
  },
  {
   "cell_type": "markdown",
   "metadata": {},
   "source": [
    "Bảng data gian hàng google sau khi xử lý: kiotvietbi-prelive.kv_datawarehouse.here_fnb_cantho_final\n",
    "\n",
    "Bảng data gian hàng KV sau khi xử lý: kiotvietbi-prelive.kv_datawarehouse.kv_fnb_cantho_2_final\n",
    "\n"
   ]
  },
  {
   "cell_type": "markdown",
   "metadata": {},
   "source": [
    "Clean địa chỉ API sử dụng free text:"
   ]
  },
  {
   "cell_type": "code",
   "execution_count": 1,
   "metadata": {},
   "outputs": [],
   "source": [
    "list_api_keys = [\"1EotnhALO_Xf7d5mlOVefECdfpbgPG_Dik0TeOcQauQ\",\n",
    "\"92hxCAU523jWUFRXMhM-p3w66P3PxYfY_tZm9pPeShU\",\n",
    "\"KwvOafjkobVhF8Iz63lMyNooS-hjaYgmHdZrqVVVHWw\",\n",
    "\"N5qb2q5dSfly3fnqWMsDPqVMWUd1yRbTBxbT34hvw_g\",\n",
    "\"SsQNhtNfemZJr_FzCYZlub29VeTTjymT3Qm6syC50W8\",\n",
    "\"br4m9W3KMhrPa51Vru5M1mWJYCfaVFvWiP3kB2gEQUA\",\n",
    "\"spdVYGb-b6cgokZBOuwGG4b3WbmgsxQqv7tudjdOfLc\",\n",
    "\"0zeR-GEwo5Od-poIZYTGrw-I80fC2C0b0q4F1Boa8oc\",\n",
    "\"UfHD68dH4O9ld-NS22Se6Bls98P9aPZhFq4hA_H7-74\",\n",
    "\"c6NrKs_BpAX4OdRFKAVSDeUaQTjSpNF8dCxjcLT6AfE\",\n",
    "\"WCpDyLiAACoL9zwSFQQa_HboP-HdWXSM601W1N02aeg\",\n",
    "\"faJrm5egL12NmLivrDsbqz44I47DhbJQUIg89L3TdIo\",\n",
    "\"cdXQHZ3zzsZv-n04kjimcml7e3BRKcR2H3wl8XPi6SU\",\n",
    "\"RBRLSkMgpwy6QF0jKsXs-jXEliqtAwwD_jd0DbHrEN8\",\n",
    "\"Dd-n66bTKOIKeQ0H6nRvIOMWatnJ_viPxKMNGpxsFa4\",\n",
    "\"q-Ao_RRfZNyfQPp2XsnYGbrOItF6SlXN0jObPIKVnk\",\n",
    "\"ufLjrWIrvjyLHzL1TZIEOZjKpgolDMBUPXUwoIblgs0\",\n",
    "\"tvjh1g0Xygp6DMsH8n5hX41jgbNh3VE61MsnWHYkfZw\",\n",
    "\"d_8_FhktHjeMh91gB9bBKGHgMJFC6auZqHThhlHL9Hw\",\n",
    "\"P1RAwTjkXvZUQLjHyi06Zm1YP1KeaZMJdjaNN1ZeOeE\",\n",
    "\"DQV3KQ2U9DLoro0jMQUoIr-PQMKBpKIEpOqXzF1A498\",\n",
    "\"6IcCytBh4PkKOC3YE2Smw4IGdAyTD7XTtsmgtxF-kdY\",\n",
    "\"PgxoArILmRDFQreVp3pC6bexYfcKIVwMMN4oKpa8VOo\",\n",
    "\"mwA5L1GvWFvnwIYL-U1kP0RDsZ61ElOKAH7wnbsTs4M\"]"
   ]
  },
  {
   "cell_type": "code",
   "execution_count": 2,
   "metadata": {},
   "outputs": [],
   "source": [
    "# Hàm gọi api here để lấy thông tin vị trí từ địa chỉ chi tiết\n",
    "import requests\n",
    "\n",
    "def get_location(address, api_key ):\n",
    "    #api_key = \"mwA5L1GvWFvnwIYL-U1kP0RDsZ61ElOKAH7wnbsTs4M\"\n",
    "\n",
    "    url = f'https://geocode.search.hereapi.com/v1/geocode?q={address}&apiKey={api_key}'\n",
    "    \n",
    "    try:\n",
    "        # Gửi yêu cầu API\n",
    "        response = requests.get(url)\n",
    "        \n",
    "        # Nếu API key đã hết hạn, thử API key tiếp theo trong danh sách\n",
    "\n",
    "        if response.status_code == 429:\n",
    "            return {\"lat\": \"\", \"lng\": \"\", \"House_number\": \"\", \"Street\": \"\", \"Ward\": \"\", \"District\": \"\", \"City\": \"\", \"progress\": \"False\" }\n",
    "        else: \n",
    "            data = response.json()    \n",
    "            # Xử lý kết quả và trả về\n",
    "            if data == {'items': []}: \n",
    "                list_address = {\"lat\": \"\", \"lng\": \"\", \"House_number\": \"\", \"Street\": \"\", \"Ward\": \"\", \"District\": \"\", \"City\": \"\", \"progress\": \"True\" }\n",
    "            else: \n",
    "                result = data['items'][0]\n",
    "                position = result['position']\n",
    "                lat = position.get('lat', '')\n",
    "                long = position.get('lng', '')\n",
    "                address_info = result['address']\n",
    "                city = address_info.get('county', '')\n",
    "                district = address_info.get('city', '')\n",
    "                ward = address_info.get('district', '')\n",
    "                street = address_info.get('street', '')\n",
    "                houseNumber = address_info.get('houseNumber', '')\n",
    "                list_address = {\"lat\": lat, \"lng\": long, \"House_number\": houseNumber, \"Street\": street, \"Ward\": ward, \"District\": district, \"City\": city, \"progress\": \"True\" }\n",
    "    except:\n",
    "           # Nếu thử xảy ra lỗi trả ra tập rỗng và progess là False đánh dấu những case chưa xử lí\n",
    "        list_address = {\"lat\": \"\", \"lng\": \"\", \"House_number\": \"\", \"Street\": \"\", \"Ward\": \"\", \"District\": \"\", \"City\": \"\", \"progress\": \"False\" }\n",
    "           \n",
    "    return list_address\n",
    "\n",
    "# Hàm xử lí dữ liệu đầu vào là dataframe\n",
    "def out_put(df, api_key):\n",
    "    house_numbers = []\n",
    "    streets = []\n",
    "    wards = []\n",
    "    districts = []\n",
    "    cities = []\n",
    "    progresses = []\n",
    "    \n",
    "    for address in df[\"address\"]:\n",
    "        address_info = get_location(address,api_key)\n",
    "        house_numbers.append(address_info[\"House_number\"])\n",
    "        streets.append(address_info[\"Street\"])\n",
    "        wards.append(address_info[\"Ward\"])\n",
    "        districts.append(address_info[\"District\"])\n",
    "        cities.append(address_info[\"City\"])\n",
    "        progresses.append(address_info[\"progress\"])\n",
    "    \n",
    "    df[\"House_number\"] = house_numbers\n",
    "    df[\"Street\"] = streets\n",
    "    df[\"Ward\"] = wards\n",
    "    df[\"District\"] = districts\n",
    "    df[\"City\"] = cities\n",
    "    df[\"progress\"] = progresses\n",
    "\n",
    "    return df"
   ]
  },
  {
   "cell_type": "code",
   "execution_count": 3,
   "metadata": {},
   "outputs": [
    {
     "ename": "NameError",
     "evalue": "name 'df' is not defined",
     "output_type": "error",
     "traceback": [
      "\u001b[1;31m---------------------------------------------------------------------------\u001b[0m",
      "\u001b[1;31mNameError\u001b[0m                                 Traceback (most recent call last)",
      "Cell \u001b[1;32mIn [3], line 1\u001b[0m\n\u001b[1;32m----> 1\u001b[0m df_test \u001b[38;5;241m=\u001b[39m \u001b[43mdf\u001b[49m\n",
      "\u001b[1;31mNameError\u001b[0m: name 'df' is not defined"
     ]
    }
   ],
   "source": [
    "df_test = df\n"
   ]
  },
  {
   "cell_type": "code",
   "execution_count": null,
   "metadata": {},
   "outputs": [],
   "source": [
    "# Calculate the number of groups\n",
    "num_groups = len(df_test) // 1000\n",
    "\n",
    "# Calculate the number of remaining rows\n",
    "remaining_rows = len(df_test) % 1000\n",
    "\n",
    "# Create a list to store the new dataframes\n",
    "dfs = []\n",
    "\n",
    "# Split the dataframe into groups of two rows each\n",
    "for i in range(num_groups):\n",
    "    start_index = i * 1000\n",
    "    end_index = start_index + 1000\n",
    "    df_group = df_test[start_index:end_index].copy()\n",
    "    dfs.append(df_group)\n",
    "\n",
    "# Add the remaining rows to the last dataframe\n",
    "if remaining_rows > 0:\n",
    "    last_df = df_test[-remaining_rows:].copy()\n",
    "    dfs.append(last_df)"
   ]
  },
  {
   "cell_type": "code",
   "execution_count": null,
   "metadata": {},
   "outputs": [],
   "source": [
    "# tiến hành chạy multi thread\n",
    "import threading\n",
    "import time\n",
    "\n",
    "final = []\n",
    "def out_put_with_time(df, api_key):\n",
    "    start_time = time.time()\n",
    "    out_put(df, api_key)\n",
    "    end_time = time.time()\n",
    "    execution_time = end_time - start_time\n",
    "    print(f\"Time: {execution_time/60} phút\")\n",
    "\n",
    "for df , api_key in zip(dfs, list_api_keys):\n",
    "    thread = threading.Thread(target=out_put_with_time, args=(df,api_key))\n",
    "    thread.start()\n",
    "    thread.join()\n",
    "    final.append(df)\n",
    "\n",
    "print(\"Done\")"
   ]
  },
  {
   "cell_type": "code",
   "execution_count": null,
   "metadata": {},
   "outputs": [],
   "source": [
    "merged_df = pd.concat(final, ignore_index=True)\n"
   ]
  }
 ],
 "metadata": {
  "kernelspec": {
   "display_name": "Python 3",
   "language": "python",
   "name": "python3"
  },
  "language_info": {
   "codemirror_mode": {
    "name": "ipython",
    "version": 3
   },
   "file_extension": ".py",
   "mimetype": "text/x-python",
   "name": "python",
   "nbconvert_exporter": "python",
   "pygments_lexer": "ipython3",
   "version": "3.10.6"
  }
 },
 "nbformat": 4,
 "nbformat_minor": 2
}
