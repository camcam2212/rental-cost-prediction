{
 "cells": [
  {
   "cell_type": "markdown",
   "metadata": {},
   "source": [
    "# 1. Merge all files"
   ]
  },
  {
   "cell_type": "code",
   "execution_count": 1,
   "metadata": {},
   "outputs": [],
   "source": [
    "import seaborn as sns\n",
    "import matplotlib.pyplot as plt\n",
    "from sklearn.model_selection import train_test_split\n",
    "from sklearn.linear_model import LinearRegression\n",
    "from sklearn.metrics import mean_squared_error\n",
    "from sklearn.preprocessing import StandardScaler\n",
    "from sklearn.ensemble import RandomForestRegressor\n",
    "import numpy as np\n",
    "from sklearn.naive_bayes import MultinomialNB\n",
    "from sklearn.metrics import accuracy_score\n",
    "from xgboost import XGBRegressor\n",
    "from xgboost import XGBClassifier\n",
    "import pandas as pd\n",
    "\n",
    "import selenium\n",
    "from selenium import webdriver\n",
    "from time import sleep\n",
    "from selenium.webdriver.common.keys import Keys\n",
    "from selenium.webdriver.common.by import By\n",
    "import pandas as pd\n",
    "from datetime import datetime, timedelta\n",
    "import os\n",
    "\n",
    "import re\n",
    "import pandas as pd\n",
    "from sklearn.model_selection import train_test_split\n",
    "from sklearn.linear_model import LinearRegression\n",
    "from sklearn.metrics import mean_squared_error\n",
    "from sklearn.preprocessing import LabelEncoder, OneHotEncoder"
   ]
  },
  {
   "cell_type": "code",
   "execution_count": 27,
   "metadata": {},
   "outputs": [
    {
     "name": "stdout",
     "output_type": "stream",
     "text": [
      "8376\n"
     ]
    }
   ],
   "source": [
    "folder_path = \"D:\\OneDrive\\KiotViet\\Python_for_work\\KFinance\\CSV_crawl_data\"\n",
    "file_list = os.listdir(folder_path)\n",
    "\n",
    "merged_df = pd.DataFrame()\n",
    "\n",
    "# Loop qua từng file CSV và merge vào DataFrame\n",
    "for file in file_list:\n",
    "    if \"cho-thue-nha-mat-pho_order\" in file or \"cho-thue-shophouse-nha-pho-thuong-mai_order\" in file or \"cho-thue-kho-nha-xuong-dat_order\" in file:\n",
    "        file_path = os.path.join(folder_path, file)\n",
    "        df = pd.read_csv(file_path)\n",
    "        merged_df = pd.concat([merged_df, df], ignore_index=True)\n",
    "\n",
    "print(len(merged_df))"
   ]
  },
  {
   "cell_type": "code",
   "execution_count": 28,
   "metadata": {},
   "outputs": [],
   "source": [
    "merged_df = merged_df.dropna()\n",
    "merged_df.to_csv(r\"D:\\OneDrive\\KiotViet\\Python_for_work\\KFinance\\CSV_crawl_data\\all_bds_bdscomvn.csv\", index=False, mode = 'w', encoding=\"utf-8-sig\")"
   ]
  },
  {
   "cell_type": "markdown",
   "metadata": {},
   "source": [
    "# 2. Clean data "
   ]
  },
  {
   "cell_type": "code",
   "execution_count": 29,
   "metadata": {},
   "outputs": [
    {
     "name": "stdout",
     "output_type": "stream",
     "text": [
      "The total rows of dataframe is 8368\n"
     ]
    }
   ],
   "source": [
    "df = pd.read_csv(r\"D:\\OneDrive\\KiotViet\\Python_for_work\\KFinance\\CSV_crawl_data\\all_bds_bdscomvn.csv\")\n",
    "df.head()\n",
    "print(f\"The total rows of dataframe is {len(df)}\")"
   ]
  },
  {
   "cell_type": "markdown",
   "metadata": {},
   "source": [
    "2.0 Xử lý diện tích"
   ]
  },
  {
   "cell_type": "code",
   "execution_count": 30,
   "metadata": {},
   "outputs": [
    {
     "data": {
      "text/plain": [
       "0        40610.0\n",
       "1       104700.0\n",
       "2        15000.0\n",
       "3        50000.0\n",
       "4          150.0\n",
       "          ...   \n",
       "8363       160.0\n",
       "8364       120.0\n",
       "8365      1400.0\n",
       "8366       116.0\n",
       "8367       120.0\n",
       "Name: area_value, Length: 8368, dtype: float64"
      ]
     },
     "execution_count": 30,
     "metadata": {},
     "output_type": "execute_result"
    }
   ],
   "source": [
    "# area_pattern = re.compile(r'(\\d+) m²')\n",
    "# df['area_value'] = df['Area'].apply(lambda x: int(area_pattern.search(x).group(1)) if area_pattern.search(x) else None)\n",
    "\n",
    "df['area_value'] = df['Area'].apply(lambda x: float(x.replace(',', '.').replace(' m²', '').replace('.', '')))\n",
    "df['area_value']\n"
   ]
  },
  {
   "cell_type": "markdown",
   "metadata": {},
   "source": [
    "2.1 Xử lý price"
   ]
  },
  {
   "cell_type": "code",
   "execution_count": 31,
   "metadata": {},
   "outputs": [],
   "source": [
    "# Tạo cột 'price_per_m2'\n",
    "\n",
    "# 1. Price ghi: 70 nghìn / m2 => Cột 'price_per_m2' thành 70000\n",
    "pattern = re.compile(r'(\\d+) nghìn/m²')\n",
    "df['price_per_m2'] = df['Price'].apply(lambda x: int(pattern.search(x).group(1)) if pattern.search(x) else None)*1000\n",
    "\n",
    "#2.Nếu Price ghi X triệu/tháng và Area ghi Y m2 thì => Cột 'price_per_m2' thành x / Y\n",
    "def convert_price_string_to_float(price_string):\n",
    "    return float(price_string.replace(',', '.'))\n",
    "\n",
    "price_pattern = re.compile(r'([\\d,]+) triệu/tháng')\n",
    "\n",
    "df['price_value_trieu'] = df['Price'].apply(lambda x: convert_price_string_to_float(price_pattern.search(x).group(1)) if price_pattern.search(x) else None)\n",
    "df['price_per_m2_trieu'] = 1000000 * df['price_value_trieu'] / df['area_value']\n",
    "\n",
    "#3.Nếu Price ghi X tỷ/tháng và Area ghi Y m2 thì => Cột 'price_per_m2' thành x / Y\n",
    "\n",
    "price_pattern_bil = re.compile(r'([\\d,]+) tỷ')\n",
    "\n",
    "df['price_value_ty'] = df['Price'].apply(lambda x: convert_price_string_to_float(price_pattern_bil.search(x).group(1)) if price_pattern_bil.search(x) else None)\n",
    "df['price_per_m2_ty'] = 1000000000 * df['price_value_ty'] / df['area_value']\n",
    "\n",
    "#3. Nếu Price là thoả thuận thì bỏ qua khỏi df luôn\n",
    "df = df[df['Price'] != 'Giá thỏa thuận']\n",
    "\n"
   ]
  },
  {
   "cell_type": "code",
   "execution_count": 32,
   "metadata": {},
   "outputs": [],
   "source": [
    "#4. Từ các cột \"price_per_m2\", \"price_per_m2_trieu\", \"price_per_m2_ty\" ta tìm được price_per_m2_final\n",
    "\n",
    "def calculate_price_per_m2_final(row):\n",
    "    if not pd.isna(row['price_per_m2']):\n",
    "        return row['price_per_m2']\n",
    "    elif not pd.isna(row['price_per_m2_trieu']):\n",
    "        return row['price_per_m2_trieu']\n",
    "    elif not pd.isna(row['price_per_m2_ty']):\n",
    "        return row['price_per_m2_ty']\n",
    "    else:\n",
    "        return np.nan\n",
    "\n",
    "# Áp dụng hàm tùy chỉnh để tạo cột mới\n",
    "df['price_per_m2_final'] = df.apply(calculate_price_per_m2_final, axis=1)"
   ]
  },
  {
   "cell_type": "code",
   "execution_count": 33,
   "metadata": {},
   "outputs": [],
   "source": [
    "#5. Xử lý thành phố\n",
    "df[['district', 'city']] = df['Location'].str.split(', ', expand=True)"
   ]
  },
  {
   "cell_type": "code",
   "execution_count": 34,
   "metadata": {},
   "outputs": [
    {
     "data": {
      "text/html": [
       "<div>\n",
       "<style scoped>\n",
       "    .dataframe tbody tr th:only-of-type {\n",
       "        vertical-align: middle;\n",
       "    }\n",
       "\n",
       "    .dataframe tbody tr th {\n",
       "        vertical-align: top;\n",
       "    }\n",
       "\n",
       "    .dataframe thead th {\n",
       "        text-align: right;\n",
       "    }\n",
       "</style>\n",
       "<table border=\"1\" class=\"dataframe\">\n",
       "  <thead>\n",
       "    <tr style=\"text-align: right;\">\n",
       "      <th></th>\n",
       "      <th>Title</th>\n",
       "      <th>Price</th>\n",
       "      <th>Area</th>\n",
       "      <th>Location</th>\n",
       "      <th>type</th>\n",
       "      <th>area_value</th>\n",
       "      <th>price_per_m2</th>\n",
       "      <th>price_value_trieu</th>\n",
       "      <th>price_per_m2_trieu</th>\n",
       "      <th>price_value_ty</th>\n",
       "      <th>price_per_m2_ty</th>\n",
       "      <th>price_per_m2_final</th>\n",
       "      <th>district</th>\n",
       "      <th>city</th>\n",
       "      <th>address</th>\n",
       "    </tr>\n",
       "  </thead>\n",
       "  <tbody>\n",
       "    <tr>\n",
       "      <th>2</th>\n",
       "      <td>Chính chủ cho thuê nhà xưởng có diện tích từ 3...</td>\n",
       "      <td>52 nghìn/m²</td>\n",
       "      <td>15.000 m²</td>\n",
       "      <td>Hưng Yên, Hưng Yên</td>\n",
       "      <td>cho-thue-kho-nha-xuong-dat</td>\n",
       "      <td>15000.0</td>\n",
       "      <td>52000.0</td>\n",
       "      <td>NaN</td>\n",
       "      <td>NaN</td>\n",
       "      <td>NaN</td>\n",
       "      <td>NaN</td>\n",
       "      <td>52000.0</td>\n",
       "      <td>Hưng Yên</td>\n",
       "      <td>Hưng Yên</td>\n",
       "      <td>Chính chủ cho thuê nhà xưởng có diện tích từ 3...</td>\n",
       "    </tr>\n",
       "    <tr>\n",
       "      <th>5</th>\n",
       "      <td>Cho thuê kho có sẵn PCCC tự động tại KCN Vĩnh ...</td>\n",
       "      <td>100 nghìn/m²</td>\n",
       "      <td>250 m²</td>\n",
       "      <td>Bình Chánh, Hồ Chí Minh</td>\n",
       "      <td>cho-thue-kho-nha-xuong-dat</td>\n",
       "      <td>250.0</td>\n",
       "      <td>100000.0</td>\n",
       "      <td>NaN</td>\n",
       "      <td>NaN</td>\n",
       "      <td>NaN</td>\n",
       "      <td>NaN</td>\n",
       "      <td>100000.0</td>\n",
       "      <td>Bình Chánh</td>\n",
       "      <td>Hồ Chí Minh</td>\n",
       "      <td>Cho thuê kho có sẵn PCCC tự động tại KCN Vĩnh ...</td>\n",
       "    </tr>\n",
       "    <tr>\n",
       "      <th>8</th>\n",
       "      <td>Kho riêng (tự quản), kho chung có thủ kho quản...</td>\n",
       "      <td>50 nghìn/m²</td>\n",
       "      <td>1.000 m²</td>\n",
       "      <td>Quận 7, Hồ Chí Minh</td>\n",
       "      <td>cho-thue-kho-nha-xuong-dat</td>\n",
       "      <td>1000.0</td>\n",
       "      <td>50000.0</td>\n",
       "      <td>NaN</td>\n",
       "      <td>NaN</td>\n",
       "      <td>NaN</td>\n",
       "      <td>NaN</td>\n",
       "      <td>50000.0</td>\n",
       "      <td>Quận 7</td>\n",
       "      <td>Hồ Chí Minh</td>\n",
       "      <td>Kho riêng (tự quản), kho chung có thủ kho quản...</td>\n",
       "    </tr>\n",
       "    <tr>\n",
       "      <th>10</th>\n",
       "      <td>Chính chủ cho thuê kho 2000m2, đường xe công 2...</td>\n",
       "      <td>170 triệu/tháng</td>\n",
       "      <td>2.000 m²</td>\n",
       "      <td>Bình Chánh, Hồ Chí Minh</td>\n",
       "      <td>cho-thue-kho-nha-xuong-dat</td>\n",
       "      <td>2000.0</td>\n",
       "      <td>NaN</td>\n",
       "      <td>170.0</td>\n",
       "      <td>85000.0</td>\n",
       "      <td>NaN</td>\n",
       "      <td>NaN</td>\n",
       "      <td>85000.0</td>\n",
       "      <td>Bình Chánh</td>\n",
       "      <td>Hồ Chí Minh</td>\n",
       "      <td>Chính chủ cho thuê kho 2000m2, đường xe công 2...</td>\n",
       "    </tr>\n",
       "    <tr>\n",
       "      <th>13</th>\n",
       "      <td>Cho thuê nhà xưởng xây dựng theo yêu cầu đảm b...</td>\n",
       "      <td>80 nghìn/m²</td>\n",
       "      <td>5.000 m²</td>\n",
       "      <td>Đông Anh, Hà Nội</td>\n",
       "      <td>cho-thue-kho-nha-xuong-dat</td>\n",
       "      <td>5000.0</td>\n",
       "      <td>80000.0</td>\n",
       "      <td>NaN</td>\n",
       "      <td>NaN</td>\n",
       "      <td>NaN</td>\n",
       "      <td>NaN</td>\n",
       "      <td>80000.0</td>\n",
       "      <td>Đông Anh</td>\n",
       "      <td>Hà Nội</td>\n",
       "      <td>Cho thuê nhà xưởng xây dựng theo yêu cầu đảm b...</td>\n",
       "    </tr>\n",
       "  </tbody>\n",
       "</table>\n",
       "</div>"
      ],
      "text/plain": [
       "                                                Title            Price  \\\n",
       "2   Chính chủ cho thuê nhà xưởng có diện tích từ 3...      52 nghìn/m²   \n",
       "5   Cho thuê kho có sẵn PCCC tự động tại KCN Vĩnh ...     100 nghìn/m²   \n",
       "8   Kho riêng (tự quản), kho chung có thủ kho quản...      50 nghìn/m²   \n",
       "10  Chính chủ cho thuê kho 2000m2, đường xe công 2...  170 triệu/tháng   \n",
       "13  Cho thuê nhà xưởng xây dựng theo yêu cầu đảm b...      80 nghìn/m²   \n",
       "\n",
       "         Area                 Location                        type  \\\n",
       "2   15.000 m²       Hưng Yên, Hưng Yên  cho-thue-kho-nha-xuong-dat   \n",
       "5      250 m²  Bình Chánh, Hồ Chí Minh  cho-thue-kho-nha-xuong-dat   \n",
       "8    1.000 m²      Quận 7, Hồ Chí Minh  cho-thue-kho-nha-xuong-dat   \n",
       "10   2.000 m²  Bình Chánh, Hồ Chí Minh  cho-thue-kho-nha-xuong-dat   \n",
       "13   5.000 m²         Đông Anh, Hà Nội  cho-thue-kho-nha-xuong-dat   \n",
       "\n",
       "    area_value  price_per_m2  price_value_trieu  price_per_m2_trieu  \\\n",
       "2      15000.0       52000.0                NaN                 NaN   \n",
       "5        250.0      100000.0                NaN                 NaN   \n",
       "8       1000.0       50000.0                NaN                 NaN   \n",
       "10      2000.0           NaN              170.0             85000.0   \n",
       "13      5000.0       80000.0                NaN                 NaN   \n",
       "\n",
       "    price_value_ty  price_per_m2_ty  price_per_m2_final    district  \\\n",
       "2              NaN              NaN             52000.0    Hưng Yên   \n",
       "5              NaN              NaN            100000.0  Bình Chánh   \n",
       "8              NaN              NaN             50000.0      Quận 7   \n",
       "10             NaN              NaN             85000.0  Bình Chánh   \n",
       "13             NaN              NaN             80000.0    Đông Anh   \n",
       "\n",
       "           city                                            address  \n",
       "2      Hưng Yên  Chính chủ cho thuê nhà xưởng có diện tích từ 3...  \n",
       "5   Hồ Chí Minh  Cho thuê kho có sẵn PCCC tự động tại KCN Vĩnh ...  \n",
       "8   Hồ Chí Minh  Kho riêng (tự quản), kho chung có thủ kho quản...  \n",
       "10  Hồ Chí Minh  Chính chủ cho thuê kho 2000m2, đường xe công 2...  \n",
       "13       Hà Nội  Cho thuê nhà xưởng xây dựng theo yêu cầu đảm b...  "
      ]
     },
     "execution_count": 34,
     "metadata": {},
     "output_type": "execute_result"
    }
   ],
   "source": [
    "df['address'] = df['Title']\n",
    "df.head()"
   ]
  },
  {
   "cell_type": "code",
   "execution_count": 35,
   "metadata": {},
   "outputs": [],
   "source": [
    "list_api_keys = [\"1EotnhALO_Xf7d5mlOVefECdfpbgPG_Dik0TeOcQauQ\",\n",
    "\"92hxCAU523jWUFRXMhM-p3w66P3PxYfY_tZm9pPeShU\",\n",
    "\"KwvOafjkobVhF8Iz63lMyNooS-hjaYgmHdZrqVVVHWw\",\n",
    "\"N5qb2q5dSfly3fnqWMsDPqVMWUd1yRbTBxbT34hvw_g\",\n",
    "\"SsQNhtNfemZJr_FzCYZlub29VeTTjymT3Qm6syC50W8\",\n",
    "\"br4m9W3KMhrPa51Vru5M1mWJYCfaVFvWiP3kB2gEQUA\",\n",
    "\"spdVYGb-b6cgokZBOuwGG4b3WbmgsxQqv7tudjdOfLc\",\n",
    "\"0zeR-GEwo5Od-poIZYTGrw-I80fC2C0b0q4F1Boa8oc\",\n",
    "\"UfHD68dH4O9ld-NS22Se6Bls98P9aPZhFq4hA_H7-74\",\n",
    "\"c6NrKs_BpAX4OdRFKAVSDeUaQTjSpNF8dCxjcLT6AfE\",\n",
    "\"WCpDyLiAACoL9zwSFQQa_HboP-HdWXSM601W1N02aeg\",\n",
    "\"faJrm5egL12NmLivrDsbqz44I47DhbJQUIg89L3TdIo\",\n",
    "\"cdXQHZ3zzsZv-n04kjimcml7e3BRKcR2H3wl8XPi6SU\",\n",
    "\"RBRLSkMgpwy6QF0jKsXs-jXEliqtAwwD_jd0DbHrEN8\",\n",
    "\"Dd-n66bTKOIKeQ0H6nRvIOMWatnJ_viPxKMNGpxsFa4\",\n",
    "\"q-Ao_RRfZNyfQPp2XsnYGbrOItF6SlXN0jObPIKVnk\",\n",
    "\"ufLjrWIrvjyLHzL1TZIEOZjKpgolDMBUPXUwoIblgs0\",\n",
    "\"tvjh1g0Xygp6DMsH8n5hX41jgbNh3VE61MsnWHYkfZw\",\n",
    "\"d_8_FhktHjeMh91gB9bBKGHgMJFC6auZqHThhlHL9Hw\",\n",
    "\"P1RAwTjkXvZUQLjHyi06Zm1YP1KeaZMJdjaNN1ZeOeE\",\n",
    "\"DQV3KQ2U9DLoro0jMQUoIr-PQMKBpKIEpOqXzF1A498\",\n",
    "\"6IcCytBh4PkKOC3YE2Smw4IGdAyTD7XTtsmgtxF-kdY\",\n",
    "\"PgxoArILmRDFQreVp3pC6bexYfcKIVwMMN4oKpa8VOo\",\n",
    "\"mwA5L1GvWFvnwIYL-U1kP0RDsZ61ElOKAH7wnbsTs4M\"]"
   ]
  },
  {
   "cell_type": "code",
   "execution_count": 36,
   "metadata": {},
   "outputs": [],
   "source": [
    "# Hàm gọi api here để lấy thông tin vị trí từ địa chỉ chi tiết\n",
    "import requests\n",
    "\n",
    "def get_location(address, api_key ):\n",
    "    #api_key = \"mwA5L1GvWFvnwIYL-U1kP0RDsZ61ElOKAH7wnbsTs4M\"\n",
    "\n",
    "    url = f'https://geocode.search.hereapi.com/v1/geocode?q={address}&apiKey={api_key}'\n",
    "    \n",
    "    try:\n",
    "        # Gửi yêu cầu API\n",
    "        response = requests.get(url)\n",
    "        \n",
    "        # Nếu API key đã hết hạn, thử API key tiếp theo trong danh sách\n",
    "\n",
    "        if response.status_code == 429:\n",
    "            return {\"lat\": \"\", \"lng\": \"\", \"House_number\": \"\", \"Street\": \"\", \"Ward\": \"\", \"District\": \"\", \"City\": \"\", \"progress\": \"False\" }\n",
    "        else: \n",
    "            data = response.json()    \n",
    "            # Xử lý kết quả và trả về\n",
    "            if data == {'items': []}: \n",
    "                list_address = {\"lat\": \"\", \"lng\": \"\", \"House_number\": \"\", \"Street\": \"\", \"Ward\": \"\", \"District\": \"\", \"City\": \"\", \"progress\": \"True\" }\n",
    "            else: \n",
    "                result = data['items'][0]\n",
    "                position = result['position']\n",
    "                lat = position.get('lat', '')\n",
    "                long = position.get('lng', '')\n",
    "                address_info = result['address']\n",
    "                city = address_info.get('county', '')\n",
    "                district = address_info.get('city', '')\n",
    "                ward = address_info.get('district', '')\n",
    "                street = address_info.get('street', '')\n",
    "                houseNumber = address_info.get('houseNumber', '')\n",
    "                list_address = {\"lat\": lat, \"lng\": long, \"House_number\": houseNumber, \"Street\": street, \"Ward\": ward, \"District\": district, \"City\": city, \"progress\": \"True\" }\n",
    "    except:\n",
    "           # Nếu thử xảy ra lỗi trả ra tập rỗng và progess là False đánh dấu những case chưa xử lí\n",
    "        list_address = {\"lat\": \"\", \"lng\": \"\", \"House_number\": \"\", \"Street\": \"\", \"Ward\": \"\", \"District\": \"\", \"City\": \"\", \"progress\": \"False\" }\n",
    "           \n",
    "    return list_address\n",
    "\n",
    "# Hàm xử lí dữ liệu đầu vào là dataframe\n",
    "def out_put(df, api_key):\n",
    "    house_numbers = []\n",
    "    streets = []\n",
    "    wards = []\n",
    "    districts = []\n",
    "    cities = []\n",
    "    progresses = []\n",
    "    \n",
    "    for address in df[\"address\"]:\n",
    "        address_info = get_location(address,api_key)\n",
    "        house_numbers.append(address_info[\"House_number\"])\n",
    "        streets.append(address_info[\"Street\"])\n",
    "        wards.append(address_info[\"Ward\"])\n",
    "        districts.append(address_info[\"District\"])\n",
    "        cities.append(address_info[\"City\"])\n",
    "        progresses.append(address_info[\"progress\"])\n",
    "    \n",
    "    df[\"House_number\"] = house_numbers\n",
    "    df[\"Street\"] = streets\n",
    "    df[\"Ward\"] = wards\n",
    "    df[\"District\"] = districts\n",
    "    df[\"City\"] = cities\n",
    "    df[\"progress\"] = progresses\n",
    "\n",
    "    return df"
   ]
  },
  {
   "cell_type": "code",
   "execution_count": 37,
   "metadata": {},
   "outputs": [],
   "source": [
    "df_test = df"
   ]
  },
  {
   "cell_type": "code",
   "execution_count": 38,
   "metadata": {},
   "outputs": [],
   "source": [
    "# Calculate the number of groups\n",
    "num_groups = len(df_test) // 1000\n",
    "\n",
    "# Calculate the number of remaining rows\n",
    "remaining_rows = len(df_test) % 1000\n",
    "\n",
    "# Create a list to store the new dataframes\n",
    "dfs = []\n",
    "\n",
    "# Split the dataframe into groups of two rows each\n",
    "for i in range(num_groups):\n",
    "    start_index = i * 1000\n",
    "    end_index = start_index + 1000\n",
    "    df_group = df_test[start_index:end_index].copy()\n",
    "    dfs.append(df_group)\n",
    "\n",
    "# Add the remaining rows to the last dataframe\n",
    "if remaining_rows > 0:\n",
    "    last_df = df_test[-remaining_rows:].copy()\n",
    "    dfs.append(last_df)"
   ]
  },
  {
   "cell_type": "code",
   "execution_count": 39,
   "metadata": {},
   "outputs": [
    {
     "name": "stdout",
     "output_type": "stream",
     "text": [
      "Time: 6.526620554924011 phút\n",
      "Time: 6.256240733464559 phút\n",
      "Time: 6.41014103492101 phút\n",
      "Time: 6.675470264752706 phút\n",
      "Time: 6.685437222321828 phút\n",
      "Time: 6.55020964940389 phút\n",
      "Time: 6.54061461687088 phút\n",
      "Time: 3.109566831588745 phút\n",
      "Done\n"
     ]
    }
   ],
   "source": [
    "# tiến hành chạy multi thread\n",
    "import threading\n",
    "import time\n",
    "\n",
    "final = []\n",
    "def out_put_with_time(df, api_key):\n",
    "    start_time = time.time()\n",
    "    out_put(df, api_key)\n",
    "    end_time = time.time()\n",
    "    execution_time = end_time - start_time\n",
    "    print(f\"Time: {execution_time/60} phút\")\n",
    "\n",
    "for df , api_key in zip(dfs, list_api_keys):\n",
    "    thread = threading.Thread(target=out_put_with_time, args=(df,api_key))\n",
    "    thread.start()\n",
    "    thread.join()\n",
    "    final.append(df)\n",
    "\n",
    "print(\"Done\")"
   ]
  },
  {
   "cell_type": "code",
   "execution_count": 46,
   "metadata": {},
   "outputs": [
    {
     "name": "stdout",
     "output_type": "stream",
     "text": [
      "<class 'pandas.core.frame.DataFrame'>\n",
      "RangeIndex: 7472 entries, 0 to 7471\n",
      "Data columns (total 21 columns):\n",
      " #   Column              Non-Null Count  Dtype  \n",
      "---  ------              --------------  -----  \n",
      " 0   Title               7472 non-null   object \n",
      " 1   Price               7472 non-null   object \n",
      " 2   Area                7472 non-null   object \n",
      " 3   Location            7472 non-null   object \n",
      " 4   type                7472 non-null   object \n",
      " 5   area_value          7472 non-null   float64\n",
      " 6   price_per_m2        1026 non-null   float64\n",
      " 7   price_value_trieu   6413 non-null   float64\n",
      " 8   price_per_m2_trieu  6413 non-null   float64\n",
      " 9   price_value_ty      30 non-null     float64\n",
      " 10  price_per_m2_ty     30 non-null     float64\n",
      " 11  price_per_m2_final  7469 non-null   float64\n",
      " 12  district            7472 non-null   object \n",
      " 13  city                7472 non-null   object \n",
      " 14  address             7472 non-null   object \n",
      " 15  House_number        7472 non-null   object \n",
      " 16  Street              7472 non-null   object \n",
      " 17  Ward                7472 non-null   object \n",
      " 18  District            7472 non-null   object \n",
      " 19  City                7472 non-null   object \n",
      " 20  progress            7472 non-null   object \n",
      "dtypes: float64(7), object(14)\n",
      "memory usage: 1.2+ MB\n"
     ]
    }
   ],
   "source": [
    "merged_df = pd.concat(final, ignore_index=True)\n",
    "\n",
    "#check case false\n",
    "# merged_df[merged_df[\"progress\"] == \"False\"]\n",
    "merged_df.info(2)"
   ]
  },
  {
   "cell_type": "code",
   "execution_count": 52,
   "metadata": {},
   "outputs": [],
   "source": [
    "merged_df['City'] = np.where(merged_df['City'].str.contains('[a-zA-Z]'),merged_df['City'],merged_df['city'])\n",
    "merged_df['District'] = np.where(merged_df['District'].str.contains('[a-zA-Z]'),merged_df['District'],merged_df['district'])\n",
    "merged_df['price_value_trieu'] = merged_df['price_per_m2_final']*merged_df['area_value']/1000000\n"
   ]
  },
  {
   "cell_type": "code",
   "execution_count": 2,
   "metadata": {},
   "outputs": [
    {
     "ename": "NameError",
     "evalue": "name 'merged_df' is not defined",
     "output_type": "error",
     "traceback": [
      "\u001b[1;31m---------------------------------------------------------------------------\u001b[0m",
      "\u001b[1;31mNameError\u001b[0m                                 Traceback (most recent call last)",
      "Cell \u001b[1;32mIn [2], line 1\u001b[0m\n\u001b[1;32m----> 1\u001b[0m the_end \u001b[38;5;241m=\u001b[39m \u001b[43mmerged_df\u001b[49m\u001b[38;5;241m.\u001b[39mfilter([\u001b[38;5;124m'\u001b[39m\u001b[38;5;124mCity\u001b[39m\u001b[38;5;124m'\u001b[39m,\u001b[38;5;124m'\u001b[39m\u001b[38;5;124mDistrict\u001b[39m\u001b[38;5;124m'\u001b[39m,\u001b[38;5;124m'\u001b[39m\u001b[38;5;124mWard\u001b[39m\u001b[38;5;124m'\u001b[39m,\u001b[38;5;124m'\u001b[39m\u001b[38;5;124mStreet\u001b[39m\u001b[38;5;124m'\u001b[39m,\u001b[38;5;124m'\u001b[39m\u001b[38;5;124maddress\u001b[39m\u001b[38;5;124m'\u001b[39m,\u001b[38;5;124m'\u001b[39m\u001b[38;5;124marea_value\u001b[39m\u001b[38;5;124m'\u001b[39m,\u001b[38;5;124m'\u001b[39m\u001b[38;5;124mprice_per_m2_final\u001b[39m\u001b[38;5;124m'\u001b[39m],axis \u001b[38;5;241m=\u001b[39m \u001b[38;5;241m1\u001b[39m)\n\u001b[0;32m      2\u001b[0m the_end \u001b[38;5;241m=\u001b[39m the_end\u001b[38;5;241m.\u001b[39mdropna()\n",
      "\u001b[1;31mNameError\u001b[0m: name 'merged_df' is not defined"
     ]
    }
   ],
   "source": [
    "the_end = merged_df.filter(['City','District','Ward','Street','address','area_value','price_value_trieu','price_per_m2_final'],axis = 1)\n",
    "the_end = the_end.dropna()"
   ]
  },
  {
   "cell_type": "code",
   "execution_count": 56,
   "metadata": {},
   "outputs": [],
   "source": [
    "the_end.to_csv(r\"D:\\OneDrive\\KiotViet\\Python_for_work\\KFinance\\CSV_crawl_data\\final_bdscomvn.csv\", index=False, mode = 'w', encoding=\"utf-8-sig\")"
   ]
  }
 ],
 "metadata": {
  "kernelspec": {
   "display_name": "huyenv",
   "language": "python",
   "name": "python3"
  },
  "language_info": {
   "codemirror_mode": {
    "name": "ipython",
    "version": 3
   },
   "file_extension": ".py",
   "mimetype": "text/x-python",
   "name": "python",
   "nbconvert_exporter": "python",
   "pygments_lexer": "ipython3",
   "version": "3.10.6"
  }
 },
 "nbformat": 4,
 "nbformat_minor": 2
}
