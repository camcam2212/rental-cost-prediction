{
 "cells": [
  {
   "cell_type": "markdown",
   "metadata": {},
   "source": [
    "# 1. Merge all files of sonhdothi.net"
   ]
  },
  {
   "cell_type": "code",
   "execution_count": 22,
   "metadata": {},
   "outputs": [],
   "source": [
    "import seaborn as sns\n",
    "import matplotlib.pyplot as plt\n",
    "from sklearn.model_selection import train_test_split\n",
    "from sklearn.linear_model import LinearRegression\n",
    "from sklearn.metrics import mean_squared_error\n",
    "from sklearn.preprocessing import StandardScaler\n",
    "from sklearn.ensemble import RandomForestRegressor\n",
    "import numpy as np\n",
    "from sklearn.naive_bayes import MultinomialNB\n",
    "from sklearn.metrics import accuracy_score\n",
    "from xgboost import XGBRegressor\n",
    "from xgboost import XGBClassifier\n",
    "import pandas as pd\n",
    "\n",
    "import selenium\n",
    "from selenium import webdriver\n",
    "from time import sleep\n",
    "from selenium.webdriver.common.keys import Keys\n",
    "from selenium.webdriver.common.by import By\n",
    "import pandas as pd\n",
    "from datetime import datetime, timedelta\n",
    "import os\n",
    "\n",
    "import re\n",
    "import pandas as pd\n",
    "from sklearn.model_selection import train_test_split\n",
    "from sklearn.linear_model import LinearRegression\n",
    "from sklearn.metrics import mean_squared_error\n",
    "from sklearn.preprocessing import LabelEncoder, OneHotEncoder"
   ]
  },
  {
   "cell_type": "code",
   "execution_count": 23,
   "metadata": {},
   "outputs": [
    {
     "name": "stdout",
     "output_type": "stream",
     "text": [
      "1438\n"
     ]
    }
   ],
   "source": [
    "folder_path = \"D:\\\\OneDrive\\\\KiotViet\\\\Python_for_work\\\\KFinance\\\\CSV_crawl_data\"\n",
    "file_list = os.listdir(folder_path)\n",
    "\n",
    "merged_df = pd.DataFrame()\n",
    "\n",
    "# Loop through each file in the folder\n",
    "for file in file_list:\n",
    "    if \"dothinet_\" in file and file.endswith(\".csv\"):\n",
    "        file_path = os.path.join(folder_path, file)\n",
    "\n",
    "        # Specify the encoding as 'utf-8' or the appropriate encoding for your files\n",
    "        try:\n",
    "            df = pd.read_csv(file_path, encoding='utf-8')\n",
    "            merged_df = pd.concat([merged_df, df], ignore_index=True)\n",
    "        except UnicodeDecodeError:\n",
    "            print(f\"Error reading file: {file_path}. Skipping.\")\n",
    "\n",
    "print(len(merged_df))"
   ]
  },
  {
   "cell_type": "code",
   "execution_count": 24,
   "metadata": {},
   "outputs": [],
   "source": [
    "merged_df = merged_df.dropna()\n",
    "merged_df.to_csv(r\"D:\\OneDrive\\KiotViet\\Python_for_work\\KFinance\\CSV_crawl_data\\all_bds_dothinet.csv\", index=False, mode = 'w', encoding=\"utf-8-sig\")"
   ]
  },
  {
   "cell_type": "markdown",
   "metadata": {},
   "source": [
    "# 2. Clean data "
   ]
  },
  {
   "cell_type": "code",
   "execution_count": 25,
   "metadata": {},
   "outputs": [
    {
     "name": "stdout",
     "output_type": "stream",
     "text": [
      "The total rows of dataframe is 1437\n"
     ]
    }
   ],
   "source": [
    "df = pd.read_csv(r\"D:\\OneDrive\\KiotViet\\Python_for_work\\KFinance\\CSV_crawl_data\\all_bds_dothinet.csv\")\n",
    "df.head()\n",
    "print(f\"The total rows of dataframe is {len(df)}\")"
   ]
  },
  {
   "cell_type": "code",
   "execution_count": 26,
   "metadata": {},
   "outputs": [
    {
     "name": "stdout",
     "output_type": "stream",
     "text": [
      "The total rows of dataframe is 1236\n"
     ]
    }
   ],
   "source": [
    "df = df[~df['Area'].str.contains('Không xác định')]\n",
    "df = df[~df['Price'].str.contains('Thỏa thuận')]\n",
    "df = df.drop_duplicates()\n",
    "print(f\"The total rows of dataframe is {len(df)}\")"
   ]
  },
  {
   "cell_type": "markdown",
   "metadata": {},
   "source": [
    "2.0 Xử lý diện tích"
   ]
  },
  {
   "cell_type": "code",
   "execution_count": 27,
   "metadata": {},
   "outputs": [
    {
     "data": {
      "text/plain": [
       "1     Diện tích\\n:\\n70 m²\n",
       "2    Diện tích\\n:\\n113 m²\n",
       "3    Diện tích\\n:\\n300 m²\n",
       "4    Diện tích\\n:\\n178 m²\n",
       "5    Diện tích\\n:\\n200 m²\n",
       "Name: Area, dtype: object"
      ]
     },
     "execution_count": 27,
     "metadata": {},
     "output_type": "execute_result"
    }
   ],
   "source": [
    "df['Area'].head()"
   ]
  },
  {
   "cell_type": "code",
   "execution_count": 28,
   "metadata": {},
   "outputs": [],
   "source": [
    "df['area_value'] = df['Area'].apply(lambda x: float(x.replace('Diện tích\\n:\\n', '').replace(' m²', ''))) #.replace('.', '')"
   ]
  },
  {
   "cell_type": "code",
   "execution_count": 29,
   "metadata": {},
   "outputs": [
    {
     "data": {
      "text/html": [
       "<div>\n",
       "<style scoped>\n",
       "    .dataframe tbody tr th:only-of-type {\n",
       "        vertical-align: middle;\n",
       "    }\n",
       "\n",
       "    .dataframe tbody tr th {\n",
       "        vertical-align: top;\n",
       "    }\n",
       "\n",
       "    .dataframe thead th {\n",
       "        text-align: right;\n",
       "    }\n",
       "</style>\n",
       "<table border=\"1\" class=\"dataframe\">\n",
       "  <thead>\n",
       "    <tr style=\"text-align: right;\">\n",
       "      <th></th>\n",
       "      <th>Title</th>\n",
       "      <th>Price</th>\n",
       "      <th>Area</th>\n",
       "      <th>Location</th>\n",
       "      <th>type</th>\n",
       "      <th>area_value</th>\n",
       "    </tr>\n",
       "  </thead>\n",
       "  <tbody>\n",
       "    <tr>\n",
       "      <th>1</th>\n",
       "      <td>CHO THUÊ MẶT BẰNG MẶT TIỀN TẦNG LỬNG GIÁ RẺ ĐƯ...</td>\n",
       "      <td>Giá\\n:\\n13 Triệu/tháng</td>\n",
       "      <td>Diện tích\\n:\\n70 m²</td>\n",
       "      <td>Vị trí\\n:\\nHải Châu - Đà Nẵng</td>\n",
       "      <td>cua_hang_kiot</td>\n",
       "      <td>70.0</td>\n",
       "    </tr>\n",
       "    <tr>\n",
       "      <th>2</th>\n",
       "      <td>🔴Cho thuê mặt bằng ngay trường tiểu học, bán t...</td>\n",
       "      <td>Giá\\n:\\n16 Triệu/tháng</td>\n",
       "      <td>Diện tích\\n:\\n113 m²</td>\n",
       "      <td>Vị trí\\n:\\nBiên Hòa - Đồng Nai</td>\n",
       "      <td>cua_hang_kiot</td>\n",
       "      <td>113.0</td>\n",
       "    </tr>\n",
       "    <tr>\n",
       "      <th>3</th>\n",
       "      <td>🔴Cho thuê mặt bằng ngang 10m, ngay coopmart, đ...</td>\n",
       "      <td>Giá\\n:\\n60 Triệu/tháng</td>\n",
       "      <td>Diện tích\\n:\\n300 m²</td>\n",
       "      <td>Vị trí\\n:\\nBiên Hòa - Đồng Nai</td>\n",
       "      <td>cua_hang_kiot</td>\n",
       "      <td>300.0</td>\n",
       "    </tr>\n",
       "    <tr>\n",
       "      <th>4</th>\n",
       "      <td>Cho thuê shophouse khu Jamona City,Đào Trí,P.P...</td>\n",
       "      <td>Giá\\n:\\n18 Triệu/tháng</td>\n",
       "      <td>Diện tích\\n:\\n178 m²</td>\n",
       "      <td>Vị trí\\n:\\nQuận 7 - Hồ Chí Minh</td>\n",
       "      <td>cua_hang_kiot</td>\n",
       "      <td>178.0</td>\n",
       "    </tr>\n",
       "    <tr>\n",
       "      <th>5</th>\n",
       "      <td>🔴Cho thuê mặt bằng ngang gần 10m đường Phạm Vă...</td>\n",
       "      <td>Giá\\n:\\n70 Triệu/tháng</td>\n",
       "      <td>Diện tích\\n:\\n200 m²</td>\n",
       "      <td>Vị trí\\n:\\nBiên Hòa - Đồng Nai</td>\n",
       "      <td>cua_hang_kiot</td>\n",
       "      <td>200.0</td>\n",
       "    </tr>\n",
       "  </tbody>\n",
       "</table>\n",
       "</div>"
      ],
      "text/plain": [
       "                                               Title                   Price  \\\n",
       "1  CHO THUÊ MẶT BẰNG MẶT TIỀN TẦNG LỬNG GIÁ RẺ ĐƯ...  Giá\\n:\\n13 Triệu/tháng   \n",
       "2  🔴Cho thuê mặt bằng ngay trường tiểu học, bán t...  Giá\\n:\\n16 Triệu/tháng   \n",
       "3  🔴Cho thuê mặt bằng ngang 10m, ngay coopmart, đ...  Giá\\n:\\n60 Triệu/tháng   \n",
       "4  Cho thuê shophouse khu Jamona City,Đào Trí,P.P...  Giá\\n:\\n18 Triệu/tháng   \n",
       "5  🔴Cho thuê mặt bằng ngang gần 10m đường Phạm Vă...  Giá\\n:\\n70 Triệu/tháng   \n",
       "\n",
       "                   Area                         Location           type  \\\n",
       "1   Diện tích\\n:\\n70 m²    Vị trí\\n:\\nHải Châu - Đà Nẵng  cua_hang_kiot   \n",
       "2  Diện tích\\n:\\n113 m²   Vị trí\\n:\\nBiên Hòa - Đồng Nai  cua_hang_kiot   \n",
       "3  Diện tích\\n:\\n300 m²   Vị trí\\n:\\nBiên Hòa - Đồng Nai  cua_hang_kiot   \n",
       "4  Diện tích\\n:\\n178 m²  Vị trí\\n:\\nQuận 7 - Hồ Chí Minh  cua_hang_kiot   \n",
       "5  Diện tích\\n:\\n200 m²   Vị trí\\n:\\nBiên Hòa - Đồng Nai  cua_hang_kiot   \n",
       "\n",
       "   area_value  \n",
       "1        70.0  \n",
       "2       113.0  \n",
       "3       300.0  \n",
       "4       178.0  \n",
       "5       200.0  "
      ]
     },
     "execution_count": 29,
     "metadata": {},
     "output_type": "execute_result"
    }
   ],
   "source": [
    "df.head()"
   ]
  },
  {
   "cell_type": "markdown",
   "metadata": {},
   "source": [
    "2.1 Xử lý price"
   ]
  },
  {
   "cell_type": "code",
   "execution_count": 30,
   "metadata": {},
   "outputs": [],
   "source": [
    "#Tạo cột 'price_per_m2'\n",
    "\n",
    "df['price_per_m2'] = df['Price'].apply(lambda x: str(x.replace('Giá\\n:\\n', '')))\n",
    "\n",
    "def convert_price_string_to_float(price_string):\n",
    "    return float(price_string.replace(',', '.'))\n",
    "\n",
    "price_pattern = re.compile(r'([\\d,]+) (Triệu/tháng)')\n",
    "price_pattern2 = re.compile(r'([\\d,]+) (Triệu/m²/tháng)')\n",
    "price_pattern_thou = re.compile(r'([\\d,]+) (Nghìn/m²/tháng)')\n",
    "\n",
    "#1.Nếu Price ghi X triệu/tháng và Area ghi Y m2 thì => Cột 'price_per_m2' thành X*1000000/Y\n",
    "df['price_value_trieu'] = df['price_per_m2'].apply(lambda x: convert_price_string_to_float(price_pattern.search(x).group(1)) if price_pattern.search(x) else None)\n",
    "df['price_per_m2_trieu'] = 1000000 * df['price_value_trieu'] / df['area_value']\n",
    "# df['price_per_m2_trieu']\n",
    "\n",
    "#2. Nếu Price ghi X triệu/m2/tháng thì cột 'price_per_m2' là X*1000000\n",
    "df['price_value_trieu2'] = df['price_per_m2'].apply(lambda x: convert_price_string_to_float(price_pattern2.search(x).group(1)) if price_pattern2.search(x) else None)\n",
    "df['price_per_m2_trieu2'] = 1000000 * df['price_value_trieu2']\n",
    "# df['price_per_m2_trieu2'] \n",
    "\n",
    "#3.Nếu Price ghi X Nghìn/m2/tháng và Area ghi Y m2 thì => Cột 'price_per_m2' thành X*1000\n",
    "df['price_value_nghin'] = df['price_per_m2'].apply(lambda x: convert_price_string_to_float(price_pattern_thou.search(x).group(1)) if price_pattern_thou.search(x) else None)\n",
    "df['price_per_m2_nghin'] = np.where(df['price_value_nghin'] < 10000,df['price_value_nghin'] * 1000,df['price_value_nghin']) \n",
    "# df['price_per_m2_nghin']\n",
    "\n"
   ]
  },
  {
   "cell_type": "code",
   "execution_count": 31,
   "metadata": {},
   "outputs": [
    {
     "data": {
      "text/html": [
       "<div>\n",
       "<style scoped>\n",
       "    .dataframe tbody tr th:only-of-type {\n",
       "        vertical-align: middle;\n",
       "    }\n",
       "\n",
       "    .dataframe tbody tr th {\n",
       "        vertical-align: top;\n",
       "    }\n",
       "\n",
       "    .dataframe thead th {\n",
       "        text-align: right;\n",
       "    }\n",
       "</style>\n",
       "<table border=\"1\" class=\"dataframe\">\n",
       "  <thead>\n",
       "    <tr style=\"text-align: right;\">\n",
       "      <th></th>\n",
       "      <th>Title</th>\n",
       "      <th>Price</th>\n",
       "      <th>Area</th>\n",
       "      <th>Location</th>\n",
       "      <th>type</th>\n",
       "      <th>area_value</th>\n",
       "      <th>price_per_m2</th>\n",
       "      <th>price_value_trieu</th>\n",
       "      <th>price_per_m2_final</th>\n",
       "    </tr>\n",
       "  </thead>\n",
       "  <tbody>\n",
       "    <tr>\n",
       "      <th>1</th>\n",
       "      <td>CHO THUÊ MẶT BẰNG MẶT TIỀN TẦNG LỬNG GIÁ RẺ ĐƯ...</td>\n",
       "      <td>Giá\\n:\\n13 Triệu/tháng</td>\n",
       "      <td>Diện tích\\n:\\n70 m²</td>\n",
       "      <td>Vị trí\\n:\\nHải Châu - Đà Nẵng</td>\n",
       "      <td>cua_hang_kiot</td>\n",
       "      <td>70.0</td>\n",
       "      <td>13 Triệu/tháng</td>\n",
       "      <td>13.0</td>\n",
       "      <td>185714.285714</td>\n",
       "    </tr>\n",
       "    <tr>\n",
       "      <th>2</th>\n",
       "      <td>🔴Cho thuê mặt bằng ngay trường tiểu học, bán t...</td>\n",
       "      <td>Giá\\n:\\n16 Triệu/tháng</td>\n",
       "      <td>Diện tích\\n:\\n113 m²</td>\n",
       "      <td>Vị trí\\n:\\nBiên Hòa - Đồng Nai</td>\n",
       "      <td>cua_hang_kiot</td>\n",
       "      <td>113.0</td>\n",
       "      <td>16 Triệu/tháng</td>\n",
       "      <td>16.0</td>\n",
       "      <td>141592.920354</td>\n",
       "    </tr>\n",
       "    <tr>\n",
       "      <th>3</th>\n",
       "      <td>🔴Cho thuê mặt bằng ngang 10m, ngay coopmart, đ...</td>\n",
       "      <td>Giá\\n:\\n60 Triệu/tháng</td>\n",
       "      <td>Diện tích\\n:\\n300 m²</td>\n",
       "      <td>Vị trí\\n:\\nBiên Hòa - Đồng Nai</td>\n",
       "      <td>cua_hang_kiot</td>\n",
       "      <td>300.0</td>\n",
       "      <td>60 Triệu/tháng</td>\n",
       "      <td>60.0</td>\n",
       "      <td>200000.000000</td>\n",
       "    </tr>\n",
       "    <tr>\n",
       "      <th>4</th>\n",
       "      <td>Cho thuê shophouse khu Jamona City,Đào Trí,P.P...</td>\n",
       "      <td>Giá\\n:\\n18 Triệu/tháng</td>\n",
       "      <td>Diện tích\\n:\\n178 m²</td>\n",
       "      <td>Vị trí\\n:\\nQuận 7 - Hồ Chí Minh</td>\n",
       "      <td>cua_hang_kiot</td>\n",
       "      <td>178.0</td>\n",
       "      <td>18 Triệu/tháng</td>\n",
       "      <td>18.0</td>\n",
       "      <td>101123.595506</td>\n",
       "    </tr>\n",
       "    <tr>\n",
       "      <th>5</th>\n",
       "      <td>🔴Cho thuê mặt bằng ngang gần 10m đường Phạm Vă...</td>\n",
       "      <td>Giá\\n:\\n70 Triệu/tháng</td>\n",
       "      <td>Diện tích\\n:\\n200 m²</td>\n",
       "      <td>Vị trí\\n:\\nBiên Hòa - Đồng Nai</td>\n",
       "      <td>cua_hang_kiot</td>\n",
       "      <td>200.0</td>\n",
       "      <td>70 Triệu/tháng</td>\n",
       "      <td>70.0</td>\n",
       "      <td>350000.000000</td>\n",
       "    </tr>\n",
       "  </tbody>\n",
       "</table>\n",
       "</div>"
      ],
      "text/plain": [
       "                                               Title                   Price  \\\n",
       "1  CHO THUÊ MẶT BẰNG MẶT TIỀN TẦNG LỬNG GIÁ RẺ ĐƯ...  Giá\\n:\\n13 Triệu/tháng   \n",
       "2  🔴Cho thuê mặt bằng ngay trường tiểu học, bán t...  Giá\\n:\\n16 Triệu/tháng   \n",
       "3  🔴Cho thuê mặt bằng ngang 10m, ngay coopmart, đ...  Giá\\n:\\n60 Triệu/tháng   \n",
       "4  Cho thuê shophouse khu Jamona City,Đào Trí,P.P...  Giá\\n:\\n18 Triệu/tháng   \n",
       "5  🔴Cho thuê mặt bằng ngang gần 10m đường Phạm Vă...  Giá\\n:\\n70 Triệu/tháng   \n",
       "\n",
       "                   Area                         Location           type  \\\n",
       "1   Diện tích\\n:\\n70 m²    Vị trí\\n:\\nHải Châu - Đà Nẵng  cua_hang_kiot   \n",
       "2  Diện tích\\n:\\n113 m²   Vị trí\\n:\\nBiên Hòa - Đồng Nai  cua_hang_kiot   \n",
       "3  Diện tích\\n:\\n300 m²   Vị trí\\n:\\nBiên Hòa - Đồng Nai  cua_hang_kiot   \n",
       "4  Diện tích\\n:\\n178 m²  Vị trí\\n:\\nQuận 7 - Hồ Chí Minh  cua_hang_kiot   \n",
       "5  Diện tích\\n:\\n200 m²   Vị trí\\n:\\nBiên Hòa - Đồng Nai  cua_hang_kiot   \n",
       "\n",
       "   area_value    price_per_m2  price_value_trieu  price_per_m2_final  \n",
       "1        70.0  13 Triệu/tháng               13.0       185714.285714  \n",
       "2       113.0  16 Triệu/tháng               16.0       141592.920354  \n",
       "3       300.0  60 Triệu/tháng               60.0       200000.000000  \n",
       "4       178.0  18 Triệu/tháng               18.0       101123.595506  \n",
       "5       200.0  70 Triệu/tháng               70.0       350000.000000  "
      ]
     },
     "execution_count": 31,
     "metadata": {},
     "output_type": "execute_result"
    }
   ],
   "source": [
    "#4. Từ các cột \"price_per_m2\", \"price_per_m2_trieu\", \"price_per_m2_ty\" ta tìm được price_per_m2_final\n",
    "\n",
    "def calculate_price_per_m2_final(row):\n",
    "    if not pd.isna(row['price_per_m2_trieu']):\n",
    "        return row['price_per_m2_trieu']\n",
    "    elif not pd.isna(row['price_per_m2_trieu2']):\n",
    "        return row['price_per_m2_trieu2']\n",
    "    elif not pd.isna(row['price_per_m2_nghin']):\n",
    "        return row['price_per_m2_nghin']\n",
    "    else:\n",
    "        return np.nan\n",
    "\n",
    "# Áp dụng hàm tùy chỉnh để tạo cột mới\n",
    "df['price_per_m2_final'] = df.apply(calculate_price_per_m2_final, axis=1)\n",
    "df = df.drop(columns=['price_per_m2_nghin','price_per_m2_trieu2','price_per_m2_trieu','price_value_nghin','price_value_trieu2']).dropna()\n",
    "df.head()"
   ]
  },
  {
   "cell_type": "markdown",
   "metadata": {},
   "source": [
    "2.2. Xử lý địa chỉ"
   ]
  },
  {
   "cell_type": "code",
   "execution_count": 32,
   "metadata": {},
   "outputs": [
    {
     "name": "stdout",
     "output_type": "stream",
     "text": [
      "<class 'pandas.core.frame.DataFrame'>\n",
      "Int64Index: 1140 entries, 1 to 1436\n",
      "Data columns (total 9 columns):\n",
      " #   Column              Non-Null Count  Dtype  \n",
      "---  ------              --------------  -----  \n",
      " 0   Title               1140 non-null   object \n",
      " 1   Price               1140 non-null   object \n",
      " 2   Area                1140 non-null   object \n",
      " 3   Location            1140 non-null   object \n",
      " 4   type                1140 non-null   object \n",
      " 5   area_value          1140 non-null   float64\n",
      " 6   price_per_m2        1140 non-null   object \n",
      " 7   price_value_trieu   1140 non-null   float64\n",
      " 8   price_per_m2_final  1140 non-null   float64\n",
      "dtypes: float64(3), object(6)\n",
      "memory usage: 89.1+ KB\n"
     ]
    }
   ],
   "source": [
    "df.info()"
   ]
  },
  {
   "cell_type": "code",
   "execution_count": 33,
   "metadata": {},
   "outputs": [],
   "source": [
    "df['address'] = df['Title'].apply(lambda x: str(x.replace('Vị trí\\n:\\n', '')))\n",
    "df[['district', 'city']] = df['Location'].apply(lambda x: str(x.replace('Vị trí\\n:\\n', ''))).str.split(' - ', expand=True)\n",
    "# df.head()\n"
   ]
  },
  {
   "cell_type": "code",
   "execution_count": 34,
   "metadata": {},
   "outputs": [],
   "source": [
    "list_api_keys = [\"1EotnhALO_Xf7d5mlOVefECdfpbgPG_Dik0TeOcQauQ\",\n",
    "\"92hxCAU523jWUFRXMhM-p3w66P3PxYfY_tZm9pPeShU\",\n",
    "\"KwvOafjkobVhF8Iz63lMyNooS-hjaYgmHdZrqVVVHWw\",\n",
    "\"N5qb2q5dSfly3fnqWMsDPqVMWUd1yRbTBxbT34hvw_g\",\n",
    "\"SsQNhtNfemZJr_FzCYZlub29VeTTjymT3Qm6syC50W8\",\n",
    "\"br4m9W3KMhrPa51Vru5M1mWJYCfaVFvWiP3kB2gEQUA\",\n",
    "\"spdVYGb-b6cgokZBOuwGG4b3WbmgsxQqv7tudjdOfLc\",\n",
    "\"0zeR-GEwo5Od-poIZYTGrw-I80fC2C0b0q4F1Boa8oc\",\n",
    "\"UfHD68dH4O9ld-NS22Se6Bls98P9aPZhFq4hA_H7-74\",\n",
    "\"c6NrKs_BpAX4OdRFKAVSDeUaQTjSpNF8dCxjcLT6AfE\",\n",
    "\"WCpDyLiAACoL9zwSFQQa_HboP-HdWXSM601W1N02aeg\",\n",
    "\"faJrm5egL12NmLivrDsbqz44I47DhbJQUIg89L3TdIo\",\n",
    "\"cdXQHZ3zzsZv-n04kjimcml7e3BRKcR2H3wl8XPi6SU\",\n",
    "\"RBRLSkMgpwy6QF0jKsXs-jXEliqtAwwD_jd0DbHrEN8\",\n",
    "\"Dd-n66bTKOIKeQ0H6nRvIOMWatnJ_viPxKMNGpxsFa4\",\n",
    "\"q-Ao_RRfZNyfQPp2XsnYGbrOItF6SlXN0jObPIKVnk\",\n",
    "\"ufLjrWIrvjyLHzL1TZIEOZjKpgolDMBUPXUwoIblgs0\",\n",
    "\"tvjh1g0Xygp6DMsH8n5hX41jgbNh3VE61MsnWHYkfZw\",\n",
    "\"d_8_FhktHjeMh91gB9bBKGHgMJFC6auZqHThhlHL9Hw\",\n",
    "\"P1RAwTjkXvZUQLjHyi06Zm1YP1KeaZMJdjaNN1ZeOeE\",\n",
    "\"DQV3KQ2U9DLoro0jMQUoIr-PQMKBpKIEpOqXzF1A498\",\n",
    "\"6IcCytBh4PkKOC3YE2Smw4IGdAyTD7XTtsmgtxF-kdY\",\n",
    "\"PgxoArILmRDFQreVp3pC6bexYfcKIVwMMN4oKpa8VOo\",\n",
    "\"mwA5L1GvWFvnwIYL-U1kP0RDsZ61ElOKAH7wnbsTs4M\"]"
   ]
  },
  {
   "cell_type": "code",
   "execution_count": 35,
   "metadata": {},
   "outputs": [],
   "source": [
    "# Hàm gọi api here để lấy thông tin vị trí từ địa chỉ chi tiết\n",
    "import requests\n",
    "\n",
    "def get_location(address, api_key):\n",
    "    #api_key = \"mwA5L1GvWFvnwIYL-U1kP0RDsZ61ElOKAH7wnbsTs4M\"\n",
    "\n",
    "    url = f'https://geocode.search.hereapi.com/v1/geocode?q={address}&apiKey={api_key}'\n",
    "    \n",
    "    try:\n",
    "        # Gửi yêu cầu API\n",
    "        response = requests.get(url)\n",
    "        \n",
    "        # Nếu API key đã hết hạn, thử API key tiếp theo trong danh sách\n",
    "\n",
    "        if response.status_code == 429:\n",
    "            return {\"lat\": \"\", \"lng\": \"\", \"House_number\": \"\", \"Street\": \"\", \"Ward\": \"\", \"District\": \"\", \"City\": \"\", \"progress\": \"False\" }\n",
    "        else: \n",
    "            data = response.json()    \n",
    "            # Xử lý kết quả và trả về\n",
    "            if data == {'items': []}: \n",
    "                list_address = {\"lat\": \"\", \"lng\": \"\", \"House_number\": \"\", \"Street\": \"\", \"Ward\": \"\", \"District\": \"\", \"City\": \"\", \"progress\": \"True\" }\n",
    "            else: \n",
    "                result = data['items'][0]\n",
    "                position = result['position']\n",
    "                lat = position.get('lat', '')\n",
    "                long = position.get('lng', '')\n",
    "                address_info = result['address']\n",
    "                city = address_info.get('county', '')\n",
    "                district = address_info.get('city', '')\n",
    "                ward = address_info.get('district', '')\n",
    "                street = address_info.get('street', '')\n",
    "                houseNumber = address_info.get('houseNumber', '')\n",
    "                list_address = {\"lat\": lat, \"lng\": long, \"House_number\": houseNumber, \"Street\": street, \"Ward\": ward, \"District\": district, \"City\": city, \"progress\": \"True\" }\n",
    "    except:\n",
    "           # Nếu thử xảy ra lỗi trả ra tập rỗng và progess là False đánh dấu những case chưa xử lí\n",
    "        list_address = {\"lat\": \"\", \"lng\": \"\", \"House_number\": \"\", \"Street\": \"\", \"Ward\": \"\", \"District\": \"\", \"City\": \"\", \"progress\": \"False\" }\n",
    "           \n",
    "    return list_address\n",
    "\n",
    "# Hàm xử lí dữ liệu đầu vào là dataframe\n",
    "def out_put(df, api_key):\n",
    "    house_numbers = []\n",
    "    streets = []\n",
    "    wards = []\n",
    "    districts = []\n",
    "    cities = []\n",
    "    progresses = []\n",
    "    \n",
    "    for address in df[\"address\"]:\n",
    "        address_info = get_location(address,api_key)\n",
    "        house_numbers.append(address_info[\"House_number\"])\n",
    "        streets.append(address_info[\"Street\"])\n",
    "        wards.append(address_info[\"Ward\"])\n",
    "        districts.append(address_info[\"District\"])\n",
    "        cities.append(address_info[\"City\"])\n",
    "        progresses.append(address_info[\"progress\"])\n",
    "\n",
    "    # for index, row in df.iterrows():\n",
    "    #     title_info = get_location(row[\"Title\"], api_key)\n",
    "    #     address_info = get_location(row[\"address\"], api_key)\n",
    "\n",
    "    #     house_numbers.append(title_info[\"House_number\"])\n",
    "    #     streets.append(title_info[\"Street\"])\n",
    "    #     wards.append(title_info[\"Ward\"])\n",
    "\n",
    "    #     # Lấy thông tin City và District từ cột \"address\"\n",
    "    #     districts.append(address_info[\"District\"])\n",
    "    #     cities.append(address_info[\"City\"])\n",
    "\n",
    "    #     progresses.append(address_info[\"progress\"])\n",
    "            \n",
    "    # for address, title in zip(df[\"address\"], df[\"Title\"]):\n",
    "    #     title_info = get_location(title, api_key)\n",
    "    #     house_numbers.append(title_info[\"House_number\"])\n",
    "    #     streets.append(title_info[\"Street\"])\n",
    "    #     wards.append(title_info[\"Ward\"])\n",
    "    #     address_info = get_location(address, api_key)\n",
    "    #     districts.append(address_info[\"District\"])\n",
    "    #     cities.append(address_info[\"City\"])\n",
    "    #     progresses.append(address_info[\"progress\"])\n",
    "    \n",
    "    df[\"House_number\"] = house_numbers\n",
    "    df[\"Street\"] = streets\n",
    "    df[\"Ward\"] = wards\n",
    "    df[\"District\"] = districts\n",
    "    df[\"City\"] = cities\n",
    "    df[\"progress\"] = progresses\n",
    "\n",
    "    return df"
   ]
  },
  {
   "cell_type": "code",
   "execution_count": 36,
   "metadata": {},
   "outputs": [],
   "source": [
    "df_test = df"
   ]
  },
  {
   "cell_type": "code",
   "execution_count": 37,
   "metadata": {},
   "outputs": [],
   "source": [
    "# Calculate the number of groups\n",
    "num_groups = len(df_test) // 1000\n",
    "\n",
    "# Calculate the number of remaining rows\n",
    "remaining_rows = len(df_test) % 1000\n",
    "\n",
    "# Create a list to store the new dataframes\n",
    "dfs = []\n",
    "\n",
    "# Split the dataframe into groups of two rows each\n",
    "for i in range(num_groups):\n",
    "    start_index = i * 1000\n",
    "    end_index = start_index + 1000\n",
    "    df_group = df_test[start_index:end_index].copy()\n",
    "    dfs.append(df_group)\n",
    "\n",
    "# Add the remaining rows to the last dataframe\n",
    "if remaining_rows > 0:\n",
    "    last_df = df_test[-remaining_rows:].copy()\n",
    "    dfs.append(last_df)"
   ]
  },
  {
   "cell_type": "code",
   "execution_count": 38,
   "metadata": {},
   "outputs": [
    {
     "name": "stdout",
     "output_type": "stream",
     "text": [
      "Time: 3.1814946293830872 phút\n",
      "Time: 0.464534854888916 phút\n",
      "Done\n"
     ]
    }
   ],
   "source": [
    "# tiến hành chạy multi thread\n",
    "import threading\n",
    "import time\n",
    "\n",
    "final = []\n",
    "def out_put_with_time(df, api_key):\n",
    "    start_time = time.time()\n",
    "    out_put(df, api_key)\n",
    "    end_time = time.time()\n",
    "    execution_time = end_time - start_time\n",
    "    print(f\"Time: {execution_time/60} phút\")\n",
    "\n",
    "for df , api_key in zip(dfs, list_api_keys):\n",
    "    thread = threading.Thread(target=out_put_with_time, args=(df,api_key))\n",
    "    thread.start()\n",
    "    thread.join()\n",
    "    final.append(df)\n",
    "\n",
    "print(\"Done\")"
   ]
  },
  {
   "cell_type": "code",
   "execution_count": 39,
   "metadata": {},
   "outputs": [],
   "source": [
    "merged_df = pd.concat(final, ignore_index=True)\n",
    "\n",
    "#check case false\n",
    "# merged_df[merged_df[\"progress\"] == \"False\"]\n"
   ]
  },
  {
   "cell_type": "code",
   "execution_count": 40,
   "metadata": {},
   "outputs": [],
   "source": [
    "merged_df['City'] = np.where(merged_df['City'].str.contains('[a-zA-Z]'),merged_df['City'],merged_df['city'])\n",
    "merged_df['District'] = np.where(merged_df['District'].str.contains('[a-zA-Z]'),merged_df['District'],merged_df['district'])\n",
    "merged_df['price_value_trieu'] = merged_df['price_per_m2_final']*merged_df['area_value']/1000000"
   ]
  },
  {
   "cell_type": "code",
   "execution_count": 41,
   "metadata": {},
   "outputs": [
    {
     "data": {
      "text/html": [
       "<div>\n",
       "<style scoped>\n",
       "    .dataframe tbody tr th:only-of-type {\n",
       "        vertical-align: middle;\n",
       "    }\n",
       "\n",
       "    .dataframe tbody tr th {\n",
       "        vertical-align: top;\n",
       "    }\n",
       "\n",
       "    .dataframe thead th {\n",
       "        text-align: right;\n",
       "    }\n",
       "</style>\n",
       "<table border=\"1\" class=\"dataframe\">\n",
       "  <thead>\n",
       "    <tr style=\"text-align: right;\">\n",
       "      <th></th>\n",
       "      <th>City</th>\n",
       "      <th>District</th>\n",
       "      <th>Ward</th>\n",
       "      <th>Street</th>\n",
       "      <th>address</th>\n",
       "      <th>area_value</th>\n",
       "      <th>price_value_trieu</th>\n",
       "      <th>price_per_m2_final</th>\n",
       "    </tr>\n",
       "  </thead>\n",
       "  <tbody>\n",
       "    <tr>\n",
       "      <th>0</th>\n",
       "      <td>Đà Nẵng</td>\n",
       "      <td>Quận Hải Châu</td>\n",
       "      <td>Phường Bình Hiên</td>\n",
       "      <td>Đường 2 Tháng 9</td>\n",
       "      <td>CHO THUÊ MẶT BẰNG MẶT TIỀN TẦNG LỬNG GIÁ RẺ ĐƯ...</td>\n",
       "      <td>70.0</td>\n",
       "      <td>13.0</td>\n",
       "      <td>185714.285714</td>\n",
       "    </tr>\n",
       "    <tr>\n",
       "      <th>1</th>\n",
       "      <td>Đồng Nai</td>\n",
       "      <td>Biên Hòa</td>\n",
       "      <td></td>\n",
       "      <td></td>\n",
       "      <td>🔴Cho thuê mặt bằng ngay trường tiểu học, bán t...</td>\n",
       "      <td>113.0</td>\n",
       "      <td>16.0</td>\n",
       "      <td>141592.920354</td>\n",
       "    </tr>\n",
       "    <tr>\n",
       "      <th>2</th>\n",
       "      <td>Đồng Nai</td>\n",
       "      <td>Biên Hòa</td>\n",
       "      <td></td>\n",
       "      <td></td>\n",
       "      <td>🔴Cho thuê mặt bằng ngang 10m, ngay coopmart, đ...</td>\n",
       "      <td>300.0</td>\n",
       "      <td>60.0</td>\n",
       "      <td>200000.000000</td>\n",
       "    </tr>\n",
       "    <tr>\n",
       "      <th>3</th>\n",
       "      <td>Hồ Chí Minh</td>\n",
       "      <td>Quận 7</td>\n",
       "      <td>Phường Phú Thuận</td>\n",
       "      <td>Đường Đào Trí</td>\n",
       "      <td>Cho thuê shophouse khu Jamona City,Đào Trí,P.P...</td>\n",
       "      <td>178.0</td>\n",
       "      <td>18.0</td>\n",
       "      <td>101123.595506</td>\n",
       "    </tr>\n",
       "    <tr>\n",
       "      <th>4</th>\n",
       "      <td>Đồng Nai</td>\n",
       "      <td>Biên Hòa</td>\n",
       "      <td></td>\n",
       "      <td></td>\n",
       "      <td>🔴Cho thuê mặt bằng ngang gần 10m đường Phạm Vă...</td>\n",
       "      <td>200.0</td>\n",
       "      <td>70.0</td>\n",
       "      <td>350000.000000</td>\n",
       "    </tr>\n",
       "  </tbody>\n",
       "</table>\n",
       "</div>"
      ],
      "text/plain": [
       "          City       District              Ward           Street  \\\n",
       "0      Đà Nẵng  Quận Hải Châu  Phường Bình Hiên  Đường 2 Tháng 9   \n",
       "1     Đồng Nai       Biên Hòa                                      \n",
       "2     Đồng Nai       Biên Hòa                                      \n",
       "3  Hồ Chí Minh         Quận 7  Phường Phú Thuận    Đường Đào Trí   \n",
       "4     Đồng Nai       Biên Hòa                                      \n",
       "\n",
       "                                             address  area_value  \\\n",
       "0  CHO THUÊ MẶT BẰNG MẶT TIỀN TẦNG LỬNG GIÁ RẺ ĐƯ...        70.0   \n",
       "1  🔴Cho thuê mặt bằng ngay trường tiểu học, bán t...       113.0   \n",
       "2  🔴Cho thuê mặt bằng ngang 10m, ngay coopmart, đ...       300.0   \n",
       "3  Cho thuê shophouse khu Jamona City,Đào Trí,P.P...       178.0   \n",
       "4  🔴Cho thuê mặt bằng ngang gần 10m đường Phạm Vă...       200.0   \n",
       "\n",
       "   price_value_trieu  price_per_m2_final  \n",
       "0               13.0       185714.285714  \n",
       "1               16.0       141592.920354  \n",
       "2               60.0       200000.000000  \n",
       "3               18.0       101123.595506  \n",
       "4               70.0       350000.000000  "
      ]
     },
     "execution_count": 41,
     "metadata": {},
     "output_type": "execute_result"
    }
   ],
   "source": [
    "df_final_dothinet = merged_df[['City','District','Ward','Street','address','area_value','price_value_trieu','price_per_m2_final']]\n",
    "df_final_dothinet.head()"
   ]
  },
  {
   "cell_type": "code",
   "execution_count": 42,
   "metadata": {},
   "outputs": [],
   "source": [
    "df_final_dothinet.to_csv(r\"D:\\OneDrive\\KiotViet\\Python_for_work\\KFinance\\CSV_crawl_data\\final_bds_dothinet.csv\", index=False, mode = 'w', encoding=\"utf-8-sig\")"
   ]
  }
 ],
 "metadata": {
  "kernelspec": {
   "display_name": "huyenv",
   "language": "python",
   "name": "python3"
  },
  "language_info": {
   "codemirror_mode": {
    "name": "ipython",
    "version": 3
   },
   "file_extension": ".py",
   "mimetype": "text/x-python",
   "name": "python",
   "nbconvert_exporter": "python",
   "pygments_lexer": "ipython3",
   "version": "3.10.6"
  }
 },
 "nbformat": 4,
 "nbformat_minor": 2
}
