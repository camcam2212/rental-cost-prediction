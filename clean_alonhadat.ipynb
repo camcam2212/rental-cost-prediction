{
 "cells": [
  {
   "cell_type": "markdown",
   "metadata": {},
   "source": [
    "# 1. Merge all files of sonhdothi.net"
   ]
  },
  {
   "cell_type": "code",
   "execution_count": 65,
   "metadata": {},
   "outputs": [],
   "source": [
    "import seaborn as sns\n",
    "import matplotlib.pyplot as plt\n",
    "import pandas as pd\n",
    "import numpy as np\n",
    "from time import sleep\n",
    "import os\n",
    "import re"
   ]
  },
  {
   "cell_type": "code",
   "execution_count": 66,
   "metadata": {},
   "outputs": [
    {
     "name": "stdout",
     "output_type": "stream",
     "text": [
      "5080\n"
     ]
    }
   ],
   "source": [
    "folder_path = \"D:\\\\OneDrive\\\\KiotViet\\\\Python_for_work\\\\KFinance\\\\CSV_crawl_data\"\n",
    "file_list = os.listdir(folder_path)\n",
    "\n",
    "merged_df = pd.DataFrame()\n",
    "\n",
    "# Loop through each file in the folder\n",
    "for file in file_list:\n",
    "    if \"alonhadat_\" in file and file.endswith(\".csv\"):\n",
    "        file_path = os.path.join(folder_path, file)\n",
    "\n",
    "        # Specify the encoding as 'utf-8' or the appropriate encoding for your files\n",
    "        try:\n",
    "            df = pd.read_csv(file_path, encoding='utf-8')\n",
    "            merged_df = pd.concat([merged_df, df], ignore_index=True)\n",
    "        except UnicodeDecodeError:\n",
    "            print(f\"Error reading file: {file_path}. Skipping.\")\n",
    "\n",
    "print(len(merged_df))"
   ]
  },
  {
   "cell_type": "code",
   "execution_count": 67,
   "metadata": {},
   "outputs": [],
   "source": [
    "merged_df = merged_df.dropna()\n",
    "merged_df.to_csv(r\"D:\\OneDrive\\KiotViet\\Python_for_work\\KFinance\\CSV_crawl_data\\all_bds_alonhadat.csv\", index=False, mode = 'w', encoding=\"utf-8-sig\")"
   ]
  },
  {
   "cell_type": "code",
   "execution_count": 68,
   "metadata": {},
   "outputs": [
    {
     "name": "stdout",
     "output_type": "stream",
     "text": [
      "The total rows of dataframe is 5080\n"
     ]
    }
   ],
   "source": [
    "df = pd.read_csv(r\"D:\\OneDrive\\KiotViet\\Python_for_work\\KFinance\\CSV_crawl_data\\all_bds_alonhadat.csv\")\n",
    "df.head()\n",
    "print(f\"The total rows of dataframe is {len(df)}\")"
   ]
  },
  {
   "cell_type": "code",
   "execution_count": 69,
   "metadata": {},
   "outputs": [
    {
     "name": "stdout",
     "output_type": "stream",
     "text": [
      "The total rows of dataframe is 4225\n"
     ]
    }
   ],
   "source": [
    "df = df[~df['Price'].str.contains('Thỏa thuận')]\n",
    "df = df[~df['Area'].str.contains('KXĐ')]\n",
    "df = df[~df['Area'].str.contains('90.000.000 m')]\n",
    "df = df.drop_duplicates()\n",
    "print(f\"The total rows of dataframe is {len(df)}\")"
   ]
  },
  {
   "cell_type": "markdown",
   "metadata": {},
   "source": [
    "**Xử lý diện tích**"
   ]
  },
  {
   "cell_type": "code",
   "execution_count": 70,
   "metadata": {},
   "outputs": [
    {
     "data": {
      "text/plain": [
       "0     Diện tích: 24 m\\n2\n",
       "1    Diện tích: 500 m\\n2\n",
       "2    Diện tích: 550 m\\n2\n",
       "3    Diện tích: 100 m\\n2\n",
       "4    Diện tích: 175 m\\n2\n",
       "Name: Area, dtype: object"
      ]
     },
     "execution_count": 70,
     "metadata": {},
     "output_type": "execute_result"
    }
   ],
   "source": [
    "df['Area'].head()"
   ]
  },
  {
   "cell_type": "code",
   "execution_count": 71,
   "metadata": {},
   "outputs": [],
   "source": [
    "df['area_value'] = df['Area'].apply(lambda x: float(x.replace('Diện tích: ','').replace('m\\n2','').replace(',','.')))"
   ]
  },
  {
   "cell_type": "code",
   "execution_count": 72,
   "metadata": {},
   "outputs": [
    {
     "data": {
      "text/plain": [
       "0        24.0\n",
       "1       500.0\n",
       "2       550.0\n",
       "3       100.0\n",
       "4       175.0\n",
       "        ...  \n",
       "5073     65.0\n",
       "5074     64.0\n",
       "5075     80.0\n",
       "5076     80.0\n",
       "5077     84.0\n",
       "Name: area_value, Length: 4225, dtype: float64"
      ]
     },
     "execution_count": 72,
     "metadata": {},
     "output_type": "execute_result"
    }
   ],
   "source": [
    "df['area_value']"
   ]
  },
  {
   "cell_type": "markdown",
   "metadata": {},
   "source": [
    "**Xử lý giá**"
   ]
  },
  {
   "cell_type": "code",
   "execution_count": 73,
   "metadata": {},
   "outputs": [
    {
     "data": {
      "text/plain": [
       "0              Giá: 9 triệu / tháng\n",
       "1       Giá: 245 ngàn / m2  / tháng\n",
       "2             Giá: 40 triệu / tháng\n",
       "3             Giá: 50 triệu / tháng\n",
       "4             Giá: 85 triệu / tháng\n",
       "                   ...             \n",
       "5073         Giá: 110 triệu / tháng\n",
       "5074         Giá: 100 triệu / tháng\n",
       "5075          Giá: 59 triệu / tháng\n",
       "5076         Giá: 110 triệu / tháng\n",
       "5077          Giá: 55 triệu / tháng\n",
       "Name: Price, Length: 4225, dtype: object"
      ]
     },
     "execution_count": 73,
     "metadata": {},
     "output_type": "execute_result"
    }
   ],
   "source": [
    "df['Price']"
   ]
  },
  {
   "cell_type": "code",
   "execution_count": 74,
   "metadata": {},
   "outputs": [],
   "source": [
    "#Tạo cột 'price_per_m2'\n",
    "\n",
    "df['price_per_m2'] = df['Price'].apply(lambda x: str(x.replace('Giá: ', '')))\n",
    "def convert_price_string_to_float(price_string):\n",
    "    return float(price_string.replace(',', '.'))\n",
    "\n",
    "price_pattern = re.compile(r'([\\d,]+) (triệu / tháng)')\n",
    "price_pattern_ty = re.compile(r'([\\d,]+) (tỷ /tháng)')\n",
    "price_pattern_nghin = re.compile(r'([\\d,]+) (ngàn / m2  / tháng)')\n",
    "\n",
    "#1.Nếu Price ghi X triệu/tháng và Area ghi Y m2 thì => Cột 'price_per_m2' thành X*1000000/Y\n",
    "df['price_value_trieu'] = df['price_per_m2'].apply(lambda x: convert_price_string_to_float(price_pattern.search(x).group(1)) if price_pattern.search(x) is not None else None)\n",
    "df['price_per_m2_trieu'] = 1000000 * df['price_value_trieu'] / df['area_value']\n",
    "\n",
    "\n",
    "#3.Nếu Price ghi X tỷ/tháng và Area ghi Y m2 thì => Cột 'price_per_m2' thành X*1000000000/Y\n",
    "df['price_value_ty'] = df['price_per_m2'].apply(lambda x: convert_price_string_to_float(price_pattern_ty.search(x).group(1)) if price_pattern_ty.search(x) is not None else None)\n",
    "df['price_per_m2_ty'] = 1000000000 * df['price_value_ty'] / df['area_value']\n",
    "\n",
    "\n",
    "#3.Nếu Price ghi X triệu và Area ghi Y m2 thì => Cột 'price_per_m2' thành X*1000000/Y\n",
    "df['price_value_nghin'] = df['price_per_m2'].apply(lambda x: convert_price_string_to_float(price_pattern_nghin.search(x).group(1)) if price_pattern_nghin.search(x) is not None else None)\n",
    "df['price_per_m2_nghin'] = 1000000 * df['price_value_nghin'] / df['area_value']\n",
    "\n"
   ]
  },
  {
   "cell_type": "code",
   "execution_count": 78,
   "metadata": {},
   "outputs": [
    {
     "data": {
      "text/plain": [
       "0    375000.000000\n",
       "1    490000.000000\n",
       "2     72727.272727\n",
       "3    500000.000000\n",
       "4    485714.285714\n",
       "Name: price_per_m2, dtype: float64"
      ]
     },
     "execution_count": 78,
     "metadata": {},
     "output_type": "execute_result"
    }
   ],
   "source": [
    "#4. Từ các cột \"price_per_m2_trieu\", \"price_per_m2_ty\", \"price_per_m2_nghin\"\n",
    "\n",
    "def calculate_price_per_m2_final(row):\n",
    "    if not pd.isna(row['price_per_m2_trieu']):\n",
    "        return row['price_per_m2_trieu']\n",
    "    elif not pd.isna(row['price_per_m2_ty']):\n",
    "        return row['price_per_m2_ty']\n",
    "    elif not pd.isna(row['price_per_m2_nghin']):\n",
    "        return row['price_per_m2_nghin']\n",
    "    else:\n",
    "        return np.nan\n",
    "\n",
    "df['price_per_m2'] = df.apply(calculate_price_per_m2_final, axis=1)\n",
    "df['price_per_m2'].head()"
   ]
  },
  {
   "cell_type": "markdown",
   "metadata": {},
   "source": [
    "**Xử lý địa chỉ**"
   ]
  },
  {
   "cell_type": "code",
   "execution_count": 79,
   "metadata": {},
   "outputs": [
    {
     "data": {
      "text/html": [
       "<div>\n",
       "<style scoped>\n",
       "    .dataframe tbody tr th:only-of-type {\n",
       "        vertical-align: middle;\n",
       "    }\n",
       "\n",
       "    .dataframe tbody tr th {\n",
       "        vertical-align: top;\n",
       "    }\n",
       "\n",
       "    .dataframe thead th {\n",
       "        text-align: right;\n",
       "    }\n",
       "</style>\n",
       "<table border=\"1\" class=\"dataframe\">\n",
       "  <thead>\n",
       "    <tr style=\"text-align: right;\">\n",
       "      <th></th>\n",
       "      <th>Title</th>\n",
       "      <th>Price</th>\n",
       "      <th>Area</th>\n",
       "      <th>Location</th>\n",
       "      <th>type</th>\n",
       "      <th>area_value</th>\n",
       "      <th>price_per_m2</th>\n",
       "      <th>price_value_trieu</th>\n",
       "      <th>price_per_m2_trieu</th>\n",
       "      <th>price_value_ty</th>\n",
       "      <th>price_per_m2_ty</th>\n",
       "      <th>price_value_nghin</th>\n",
       "      <th>price_per_m2_nghin</th>\n",
       "    </tr>\n",
       "  </thead>\n",
       "  <tbody>\n",
       "    <tr>\n",
       "      <th>0</th>\n",
       "      <td>BÁN SẠP- KIOS CHỢ PHƯỜNG 4 TRÀ VINH</td>\n",
       "      <td>Giá: 9 triệu / tháng</td>\n",
       "      <td>Diện tích: 24 m\\n2</td>\n",
       "      <td>Đường Chu Văn An, Phường 4, Thành phố Trà Vinh...</td>\n",
       "      <td>cho_thue_cua_hang</td>\n",
       "      <td>24.0</td>\n",
       "      <td>375000.0</td>\n",
       "      <td>9.0</td>\n",
       "      <td>375000.0</td>\n",
       "      <td>None</td>\n",
       "      <td>NaN</td>\n",
       "      <td>NaN</td>\n",
       "      <td>NaN</td>\n",
       "    </tr>\n",
       "  </tbody>\n",
       "</table>\n",
       "</div>"
      ],
      "text/plain": [
       "                                 Title                 Price  \\\n",
       "0  BÁN SẠP- KIOS CHỢ PHƯỜNG 4 TRÀ VINH  Giá: 9 triệu / tháng   \n",
       "\n",
       "                 Area                                           Location  \\\n",
       "0  Diện tích: 24 m\\n2  Đường Chu Văn An, Phường 4, Thành phố Trà Vinh...   \n",
       "\n",
       "                type  area_value  price_per_m2  price_value_trieu  \\\n",
       "0  cho_thue_cua_hang        24.0      375000.0                9.0   \n",
       "\n",
       "   price_per_m2_trieu price_value_ty price_per_m2_ty  price_value_nghin  \\\n",
       "0            375000.0           None             NaN                NaN   \n",
       "\n",
       "   price_per_m2_nghin  \n",
       "0                 NaN  "
      ]
     },
     "execution_count": 79,
     "metadata": {},
     "output_type": "execute_result"
    }
   ],
   "source": [
    "df.head(1)"
   ]
  },
  {
   "cell_type": "code",
   "execution_count": 80,
   "metadata": {},
   "outputs": [],
   "source": [
    "df['address'] = df['Location']"
   ]
  },
  {
   "cell_type": "code",
   "execution_count": 90,
   "metadata": {},
   "outputs": [],
   "source": [
    "df = df[['Title','Price','area_value','address','price_per_m2']]"
   ]
  },
  {
   "cell_type": "code",
   "execution_count": 82,
   "metadata": {},
   "outputs": [],
   "source": [
    "list_api_keys = [\n",
    "\"N5qb2q5dSfly3fnqWMsDPqVMWUd1yRbTBxbT34hvw_g\",\n",
    "\"SsQNhtNfemZJr_FzCYZlub29VeTTjymT3Qm6syC50W8\",\n",
    "\"br4m9W3KMhrPa51Vru5M1mWJYCfaVFvWiP3kB2gEQUA\",\n",
    "\"spdVYGb-b6cgokZBOuwGG4b3WbmgsxQqv7tudjdOfLc\",\n",
    "\"0zeR-GEwo5Od-poIZYTGrw-I80fC2C0b0q4F1Boa8oc\",\n",
    "\"WCpDyLiAACoL9zwSFQQa_HboP-HdWXSM601W1N02aeg\",\n",
    "\"faJrm5egL12NmLivrDsbqz44I47DhbJQUIg89L3TdIo\",\n",
    "\"cdXQHZ3zzsZv-n04kjimcml7e3BRKcR2H3wl8XPi6SU\",\n",
    "\"RBRLSkMgpwy6QF0jKsXs-jXEliqtAwwD_jd0DbHrEN8\",\n",
    "\"Dd-n66bTKOIKeQ0H6nRvIOMWatnJ_viPxKMNGpxsFa4\",\n",
    "\"q-Ao_RRfZNyfQPp2XsnYGbrOItF6SlXN0jObPIKVnk\",\n",
    "\"ufLjrWIrvjyLHzL1TZIEOZjKpgolDMBUPXUwoIblgs0\",\n",
    "\"PgxoArILmRDFQreVp3pC6bexYfcKIVwMMN4oKpa8VOo\",\n",
    "\"tvjh1g0Xygp6DMsH8n5hX41jgbNh3VE61MsnWHYkfZw\",\n",
    "\"d_8_FhktHjeMh91gB9bBKGHgMJFC6auZqHThhlHL9Hw\",\n",
    "\"P1RAwTjkXvZUQLjHyi06Zm1YP1KeaZMJdjaNN1ZeOeE\",\n",
    "\"DQV3KQ2U9DLoro0jMQUoIr-PQMKBpKIEpOqXzF1A498\",\n",
    "\"6IcCytBh4PkKOC3YE2Smw4IGdAyTD7XTtsmgtxF-kdY\",\n",
    "\"1EotnhALO_Xf7d5mlOVefECdfpbgPG_Dik0TeOcQauQ\",\n",
    "\"92hxCAU523jWUFRXMhM-p3w66P3PxYfY_tZm9pPeShU\",\n",
    "\"KwvOafjkobVhF8Iz63lMyNooS-hjaYgmHdZrqVVVHWw\",\n",
    "\"UfHD68dH4O9ld-NS22Se6Bls98P9aPZhFq4hA_H7-74\",\n",
    "\"c6NrKs_BpAX4OdRFKAVSDeUaQTjSpNF8dCxjcLT6AfE\",\n",
    "\"mwA5L1GvWFvnwIYL-U1kP0RDsZ61ElOKAH7wnbsTs4M\"\n",
    "]"
   ]
  },
  {
   "cell_type": "code",
   "execution_count": 83,
   "metadata": {},
   "outputs": [],
   "source": [
    "# Hàm gọi api here để lấy thông tin vị trí từ địa chỉ chi tiết\n",
    "import requests"
   ]
  },
  {
   "cell_type": "code",
   "execution_count": 84,
   "metadata": {},
   "outputs": [],
   "source": [
    "\n",
    "def get_location(address, api_key):\n",
    "    #api_key = \"mwA5L1GvWFvnwIYL-U1kP0RDsZ61ElOKAH7wnbsTs4M\"\n",
    "\n",
    "    url = f'https://geocode.search.hereapi.com/v1/geocode?q={address}&apiKey={api_key}'\n",
    "    \n",
    "    try:\n",
    "        # Gửi yêu cầu API\n",
    "        response = requests.get(url)\n",
    "        \n",
    "        # Nếu API key đã hết hạn, thử API key tiếp theo trong danh sách\n",
    "\n",
    "        if response.status_code == 429:\n",
    "            return {\"lat\": \"\", \"lng\": \"\", \"House_number\": \"\", \"Street\": \"\", \"Ward\": \"\", \"District\": \"\", \"City\": \"\", \"progress\": \"False\" }\n",
    "        else: \n",
    "            data = response.json()    \n",
    "            # Xử lý kết quả và trả về\n",
    "            if data == {'items': []}: \n",
    "                list_address = {\"lat\": \"\", \"lng\": \"\", \"House_number\": \"\", \"Street\": \"\", \"Ward\": \"\", \"District\": \"\", \"City\": \"\", \"progress\": \"True\" }\n",
    "            else: \n",
    "                result = data['items'][0]\n",
    "                position = result['position']\n",
    "                lat = position.get('lat', '')\n",
    "                long = position.get('lng', '')\n",
    "                address_info = result['address']\n",
    "                city = address_info.get('county', '')\n",
    "                district = address_info.get('city', '')\n",
    "                ward = address_info.get('district', '')\n",
    "                street = address_info.get('street', '')\n",
    "                houseNumber = address_info.get('houseNumber', '')\n",
    "                list_address = {\"lat\": lat, \"lng\": long, \"House_number\": houseNumber, \"Street\": street, \"Ward\": ward, \"District\": district, \"City\": city, \"progress\": \"True\" }\n",
    "    except:\n",
    "           # Nếu thử xảy ra lỗi trả ra tập rỗng và progess là False đánh dấu những case chưa xử lí\n",
    "        list_address = {\"lat\": \"\", \"lng\": \"\", \"House_number\": \"\", \"Street\": \"\", \"Ward\": \"\", \"District\": \"\", \"City\": \"\", \"progress\": \"False\" }\n",
    "           \n",
    "    return list_address\n",
    "\n",
    "# Hàm xử lí dữ liệu đầu vào là dataframe\n",
    "def out_put(df, api_key):\n",
    "    house_numbers = []\n",
    "    streets = []\n",
    "    wards = []\n",
    "    districts = []\n",
    "    cities = []\n",
    "    progresses = []\n",
    "    \n",
    "    for address in df[\"address\"]:\n",
    "        address_info = get_location(address,api_key)\n",
    "        house_numbers.append(address_info[\"House_number\"])\n",
    "        streets.append(address_info[\"Street\"])\n",
    "        wards.append(address_info[\"Ward\"])\n",
    "        districts.append(address_info[\"District\"])\n",
    "        cities.append(address_info[\"City\"])\n",
    "        progresses.append(address_info[\"progress\"])\n",
    "    \n",
    "    df[\"House_number\"] = house_numbers\n",
    "    df[\"Street\"] = streets\n",
    "    df[\"Ward\"] = wards\n",
    "    df[\"District\"] = districts\n",
    "    df[\"City\"] = cities\n",
    "    df[\"progress\"] = progresses\n",
    "\n",
    "    return df"
   ]
  },
  {
   "cell_type": "code",
   "execution_count": 85,
   "metadata": {},
   "outputs": [],
   "source": [
    "df_test = df"
   ]
  },
  {
   "cell_type": "code",
   "execution_count": 86,
   "metadata": {},
   "outputs": [],
   "source": [
    "# Calculate the number of groups\n",
    "num_groups = len(df_test) // 1000\n",
    "\n",
    "# Calculate the number of remaining rows\n",
    "remaining_rows = len(df_test) % 1000\n",
    "\n",
    "# Create a list to store the new dataframes\n",
    "dfs = []\n",
    "\n",
    "# Split the dataframe into groups of two rows each\n",
    "for i in range(num_groups):\n",
    "    start_index = i * 1000\n",
    "    end_index = start_index + 1000\n",
    "    df_group = df_test[start_index:end_index].copy()\n",
    "    dfs.append(df_group)\n",
    "\n",
    "# Add the remaining rows to the last dataframe\n",
    "if remaining_rows > 0:\n",
    "    last_df = df_test[-remaining_rows:].copy()\n",
    "    dfs.append(last_df)"
   ]
  },
  {
   "cell_type": "code",
   "execution_count": 87,
   "metadata": {},
   "outputs": [
    {
     "name": "stdout",
     "output_type": "stream",
     "text": [
      "Time: 4.883693778514862 phút\n",
      "Time: 4.755802647272746 phút\n",
      "Time: 4.8242961724599205 phút\n",
      "Time: 4.752558366457621 phút\n",
      "Time: 1.1045271317164103 phút\n",
      "Done\n"
     ]
    }
   ],
   "source": [
    "# tiến hành chạy multi thread\n",
    "import threading\n",
    "import time\n",
    "\n",
    "final = []\n",
    "def out_put_with_time(df, api_key):\n",
    "    start_time = time.time()\n",
    "    out_put(df, api_key)\n",
    "    end_time = time.time()\n",
    "    execution_time = end_time - start_time\n",
    "    print(f\"Time: {execution_time/60} phút\")\n",
    "\n",
    "for df , api_key in zip(dfs, list_api_keys):\n",
    "    thread = threading.Thread(target=out_put_with_time, args=(df,api_key))\n",
    "    thread.start()\n",
    "    thread.join()\n",
    "    final.append(df)\n",
    "\n",
    "print(\"Done\")"
   ]
  },
  {
   "cell_type": "code",
   "execution_count": 104,
   "metadata": {},
   "outputs": [
    {
     "name": "stdout",
     "output_type": "stream",
     "text": [
      "<class 'pandas.core.frame.DataFrame'>\n",
      "RangeIndex: 4225 entries, 0 to 4224\n",
      "Data columns (total 12 columns):\n",
      " #   Column        Non-Null Count  Dtype  \n",
      "---  ------        --------------  -----  \n",
      " 0   Title         4225 non-null   object \n",
      " 1   Price         4225 non-null   object \n",
      " 2   area_value    4225 non-null   float64\n",
      " 3   address       4225 non-null   object \n",
      " 4   area_value    4225 non-null   float64\n",
      " 5   price_per_m2  4187 non-null   float64\n",
      " 6   House_number  4225 non-null   object \n",
      " 7   Street        4225 non-null   object \n",
      " 8   Ward          4225 non-null   object \n",
      " 9   District      4225 non-null   object \n",
      " 10  City          4225 non-null   object \n",
      " 11  progress      4225 non-null   object \n",
      "dtypes: float64(3), object(9)\n",
      "memory usage: 396.2+ KB\n"
     ]
    }
   ],
   "source": [
    "merged_df = pd.concat(final, ignore_index=True)\n",
    "merged_df.info()\n"
   ]
  },
  {
   "cell_type": "code",
   "execution_count": 105,
   "metadata": {},
   "outputs": [
    {
     "name": "stdout",
     "output_type": "stream",
     "text": [
      "<class 'pandas.core.frame.DataFrame'>\n",
      "Int64Index: 4225 entries, 0 to 4224\n",
      "Data columns (total 12 columns):\n",
      " #   Column        Non-Null Count  Dtype  \n",
      "---  ------        --------------  -----  \n",
      " 0   Title         4225 non-null   object \n",
      " 1   Price         4225 non-null   object \n",
      " 2   area_value    4225 non-null   float64\n",
      " 3   address       4225 non-null   object \n",
      " 4   area_value    4225 non-null   float64\n",
      " 5   price_per_m2  4187 non-null   float64\n",
      " 6   House_number  4225 non-null   object \n",
      " 7   Street        4225 non-null   object \n",
      " 8   Ward          4225 non-null   object \n",
      " 9   District      4225 non-null   object \n",
      " 10  City          4225 non-null   object \n",
      " 11  progress      4225 non-null   object \n",
      "dtypes: float64(3), object(9)\n",
      "memory usage: 429.1+ KB\n"
     ]
    }
   ],
   "source": [
    "merged_df1 = merged_df[merged_df[\"progress\"] != \"False\"]\n",
    "merged_df1.info()"
   ]
  },
  {
   "cell_type": "code",
   "execution_count": 106,
   "metadata": {},
   "outputs": [],
   "source": [
    "merged_df1 = merged_df1.loc[:,~merged_df1.columns.duplicated()]"
   ]
  },
  {
   "cell_type": "code",
   "execution_count": 108,
   "metadata": {},
   "outputs": [
    {
     "name": "stdout",
     "output_type": "stream",
     "text": [
      "<class 'pandas.core.frame.DataFrame'>\n",
      "Int64Index: 4225 entries, 0 to 4224\n",
      "Data columns (total 7 columns):\n",
      " #   Column              Non-Null Count  Dtype  \n",
      "---  ------              --------------  -----  \n",
      " 0   City                4225 non-null   object \n",
      " 1   District            4225 non-null   object \n",
      " 2   Ward                4225 non-null   object \n",
      " 3   Street              4225 non-null   object \n",
      " 4   address             4225 non-null   object \n",
      " 5   area_value          4225 non-null   float64\n",
      " 6   price_per_m2_final  4187 non-null   float64\n",
      "dtypes: float64(2), object(5)\n",
      "memory usage: 264.1+ KB\n"
     ]
    }
   ],
   "source": [
    "merged_df1 = merged_df1.rename(columns={'price_per_m2':'price_per_m2_final'})\n",
    "merged_df1 = merged_df1[['City','District','Ward','Street','address','area_value','price_per_m2_final']]\n",
    "merged_df1.info()"
   ]
  },
  {
   "cell_type": "code",
   "execution_count": 109,
   "metadata": {},
   "outputs": [],
   "source": [
    "merged_df1 = merged_df1.dropna(subset=['price_per_m2_final'])"
   ]
  },
  {
   "cell_type": "code",
   "execution_count": 110,
   "metadata": {},
   "outputs": [],
   "source": [
    "merged_df1['price_value_trieu'] = merged_df1['price_per_m2_final']*merged_df1['area_value']/1000000"
   ]
  },
  {
   "cell_type": "code",
   "execution_count": 111,
   "metadata": {},
   "outputs": [
    {
     "name": "stdout",
     "output_type": "stream",
     "text": [
      "<class 'pandas.core.frame.DataFrame'>\n",
      "Int64Index: 4187 entries, 0 to 4224\n",
      "Data columns (total 8 columns):\n",
      " #   Column              Non-Null Count  Dtype  \n",
      "---  ------              --------------  -----  \n",
      " 0   City                4187 non-null   object \n",
      " 1   District            4187 non-null   object \n",
      " 2   Ward                4187 non-null   object \n",
      " 3   Street              4187 non-null   object \n",
      " 4   address             4187 non-null   object \n",
      " 5   area_value          4187 non-null   float64\n",
      " 6   price_value_trieu   4187 non-null   float64\n",
      " 7   price_per_m2_final  4187 non-null   float64\n",
      "dtypes: float64(3), object(5)\n",
      "memory usage: 294.4+ KB\n"
     ]
    }
   ],
   "source": [
    "final_alonhadat = merged_df1[['City','District','Ward','Street','address','area_value','price_value_trieu','price_per_m2_final']]\n",
    "final_alonhadat.info()"
   ]
  },
  {
   "cell_type": "code",
   "execution_count": 112,
   "metadata": {},
   "outputs": [],
   "source": [
    "final_alonhadat.to_csv(r\"D:\\OneDrive\\KiotViet\\Python_for_work\\KFinance\\CSV_crawl_data\\final_bds_alonhadat.csv\", index=False, mode = 'w', encoding=\"utf-8-sig\")"
   ]
  }
 ],
 "metadata": {
  "kernelspec": {
   "display_name": "huyenv",
   "language": "python",
   "name": "python3"
  },
  "language_info": {
   "codemirror_mode": {
    "name": "ipython",
    "version": 3
   },
   "file_extension": ".py",
   "mimetype": "text/x-python",
   "name": "python",
   "nbconvert_exporter": "python",
   "pygments_lexer": "ipython3",
   "version": "3.10.6"
  }
 },
 "nbformat": 4,
 "nbformat_minor": 2
}
